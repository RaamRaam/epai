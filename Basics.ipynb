{
 "cells": [
  {
   "cell_type": "code",
   "execution_count": 1,
   "id": "30de263d-8072-42fc-ad11-8114a6108b34",
   "metadata": {},
   "outputs": [
    {
     "name": "stdout",
     "output_type": "stream",
     "text": [
      "25 <class 'int'>\n"
     ]
    }
   ],
   "source": [
    "age = 25\n",
    "quantity = 10\n",
    "print(age, type(age))"
   ]
  },
  {
   "cell_type": "code",
   "execution_count": 2,
   "id": "ae6ed078-5849-4c4b-8eb8-6a335e34a87f",
   "metadata": {},
   "outputs": [
    {
     "name": "stdout",
     "output_type": "stream",
     "text": [
      "12.99 <class 'float'>\n"
     ]
    }
   ],
   "source": [
    "price = 12.99\n",
    "pi = 3.14159\n",
    "print(price, type(price))"
   ]
  },
  {
   "cell_type": "code",
   "execution_count": 3,
   "id": "1fbe43f2-2c8a-4a55-bf74-3399fa17d594",
   "metadata": {},
   "outputs": [
    {
     "name": "stdout",
     "output_type": "stream",
     "text": [
      "True <class 'bool'>\n"
     ]
    }
   ],
   "source": [
    "is_stock_available = True\n",
    "is_market_open = False\n",
    "print(is_stock_available, type(is_stock_available))"
   ]
  },
  {
   "cell_type": "code",
   "execution_count": 4,
   "id": "c0451d4d-3255-4e51-b2c1-c4006a2590c1",
   "metadata": {},
   "outputs": [
    {
     "name": "stdout",
     "output_type": "stream",
     "text": [
      "Alice <class 'str'>\n"
     ]
    }
   ],
   "source": [
    "name = \"Alice\"\n",
    "address = '123 Main Street'\n",
    "print(name,type(name))"
   ]
  },
  {
   "cell_type": "code",
   "execution_count": 5,
   "id": "ac18e5ac-24b0-40cb-89bd-d59fca322026",
   "metadata": {},
   "outputs": [
    {
     "name": "stdout",
     "output_type": "stream",
     "text": [
      "['A', 'l', 'i', 'c', 'e']\n",
      "A\n"
     ]
    }
   ],
   "source": [
    "print(list(name))\n",
    "print(name[0])"
   ]
  },
  {
   "cell_type": "code",
   "execution_count": 45,
   "id": "c43f12ad-1bb0-4747-99b9-08bec2a050e3",
   "metadata": {},
   "outputs": [],
   "source": [
    "# Define a list of Indian stock market symbols\n",
    "stock_symbols = ['TCS', 'INFY', 'RELIANCE', 'HDFCBANK', 'ICICIBANK', 'HINDUNILVR']"
   ]
  },
  {
   "cell_type": "code",
   "execution_count": 7,
   "id": "95751cc6-4a76-4c42-ab8b-b585771030a0",
   "metadata": {},
   "outputs": [
    {
     "name": "stdout",
     "output_type": "stream",
     "text": [
      "List of Indian Stock Symbols:\n",
      "['TCS', 'INFY', 'RELIANCE', 'HDFCBANK', 'ICICIBANK', 'HINDUNILVR']\n"
     ]
    }
   ],
   "source": [
    "# Print the list of stock symbols\n",
    "print(\"List of Indian Stock Symbols:\")\n",
    "print(stock_symbols)"
   ]
  },
  {
   "cell_type": "code",
   "execution_count": 8,
   "id": "7572d245-e1d9-42c9-b80d-50f12661aba9",
   "metadata": {},
   "outputs": [
    {
     "name": "stdout",
     "output_type": "stream",
     "text": [
      "\n",
      "Accessing elements from the list:\n",
      "First stock symbol: TCS\n",
      "Third stock symbol: RELIANCE\n"
     ]
    }
   ],
   "source": [
    "# Accessing elements from the list\n",
    "print(\"\\nAccessing elements from the list:\")\n",
    "print(\"First stock symbol:\", stock_symbols[0])  # Access the first element\n",
    "print(\"Third stock symbol:\", stock_symbols[2])  # Access the third element"
   ]
  },
  {
   "cell_type": "code",
   "execution_count": 15,
   "id": "318ae8df-39ae-46a2-836b-d17b79dc1d2a",
   "metadata": {},
   "outputs": [
    {
     "name": "stdout",
     "output_type": "stream",
     "text": [
      "\n",
      "Slicing the list:\n",
      "First three stock symbols: ['HINDUNILVR', 'ICICIBANK', 'HDFCBANK', 'RELIANCE', 'INFY', 'TCS']\n"
     ]
    }
   ],
   "source": [
    "# Slicing the list\n",
    "print(\"\\nSlicing the list:\")\n",
    "# print(\"First three stock symbols:\", stock_symbols[:3])  # Access the first three elements\n",
    "# print(\"First three stock symbols:\", stock_symbols[2:])  # Access the first three elements\n",
    "# print(\"First three stock symbols:\", stock_symbols[3:5])\n",
    "# print(\"Last three stock symbols:\", stock_symbols[-3:-1])  # Access the last three elements\n",
    "print(\"First three stock symbols:\", stock_symbols[::-1])"
   ]
  },
  {
   "cell_type": "code",
   "execution_count": 16,
   "id": "771f6f3a-ded0-468b-913b-b7f846645253",
   "metadata": {},
   "outputs": [
    {
     "name": "stdout",
     "output_type": "stream",
     "text": [
      "\n",
      "Modifying elements in the list:\n",
      "Updated stock symbols: ['TCS', 'WIPRO', 'RELIANCE', 'HDFCBANK', 'ICICIBANK', 'HINDUNILVR']\n"
     ]
    }
   ],
   "source": [
    "# Modifying elements in the list\n",
    "print(\"\\nModifying elements in the list:\")\n",
    "stock_symbols[1] = 'WIPRO'  # Change the second element\n",
    "print(\"Updated stock symbols:\", stock_symbols)"
   ]
  },
  {
   "cell_type": "code",
   "execution_count": 17,
   "id": "79692fc5-0eaf-4a42-aaaf-ec34f7c2b977",
   "metadata": {},
   "outputs": [
    {
     "name": "stdout",
     "output_type": "stream",
     "text": [
      "\n",
      "Adding elements to the list:\n",
      "List after appending: ['TCS', 'WIPRO', 'RELIANCE', 'HDFCBANK', 'ICICIBANK', 'HINDUNILVR', 'AXISBANK']\n",
      "List after insertion: ['TCS', 'WIPRO', 'SBI', 'RELIANCE', 'HDFCBANK', 'ICICIBANK', 'HINDUNILVR', 'AXISBANK']\n"
     ]
    }
   ],
   "source": [
    "# Adding elements to the list\n",
    "print(\"\\nAdding elements to the list:\")\n",
    "stock_symbols.append('AXISBANK')  # Append an element to the end\n",
    "print(\"List after appending:\", stock_symbols)\n",
    "stock_symbols.insert(2, 'SBI')  # Insert an element at a specific index\n",
    "print(\"List after insertion:\", stock_symbols)"
   ]
  },
  {
   "cell_type": "code",
   "execution_count": 18,
   "id": "8d5e451b-b496-4b41-a5d9-f35da1b6adf9",
   "metadata": {},
   "outputs": [
    {
     "name": "stdout",
     "output_type": "stream",
     "text": [
      "\n",
      "Removing elements from the list:\n",
      "Removed stock symbol: AXISBANK\n",
      "List after removal: ['TCS', 'WIPRO', 'SBI', 'HDFCBANK', 'ICICIBANK', 'HINDUNILVR']\n"
     ]
    }
   ],
   "source": [
    "# Removing elements from the list\n",
    "print(\"\\nRemoving elements from the list:\")\n",
    "removed_stock = stock_symbols.pop()  # Remove and return the last element\n",
    "print(\"Removed stock symbol:\", removed_stock)\n",
    "stock_symbols.remove('RELIANCE')  # Remove a specific element\n",
    "print(\"List after removal:\", stock_symbols)"
   ]
  },
  {
   "cell_type": "code",
   "execution_count": 19,
   "id": "49813461-a2b4-49d1-b6b4-675b87b3a4fb",
   "metadata": {},
   "outputs": [
    {
     "name": "stdout",
     "output_type": "stream",
     "text": [
      "\n",
      "Length of the stock symbols list: 6\n"
     ]
    }
   ],
   "source": [
    "# Finding the length of the list\n",
    "print(\"\\nLength of the stock symbols list:\", len(stock_symbols))"
   ]
  },
  {
   "cell_type": "code",
   "execution_count": 21,
   "id": "4869c44d-6a90-4fc5-b365-cb4c297ab937",
   "metadata": {},
   "outputs": [
    {
     "data": {
      "text/plain": [
       "False"
      ]
     },
     "execution_count": 21,
     "metadata": {},
     "output_type": "execute_result"
    }
   ],
   "source": [
    "'INFY' in stock_symbols"
   ]
  },
  {
   "cell_type": "code",
   "execution_count": null,
   "id": "ffb90eb3-2a24-48d2-9365-419fb79c0088",
   "metadata": {},
   "outputs": [],
   "source": [
    "# Checking if an element is in the list\n",
    "if 'TCS' in stock_symbols:\n",
    "    print(\"\\n'TCS' is present in the stock symbols list.\")\n",
    "else:\n",
    "    print(\"\\n'TCS' is not present in the stock symbols list.\")"
   ]
  },
  {
   "cell_type": "code",
   "execution_count": 22,
   "id": "d5235bfd-edaa-40c4-851e-46df20a97a57",
   "metadata": {},
   "outputs": [
    {
     "name": "stdout",
     "output_type": "stream",
     "text": [
      "\n",
      "Extending a list:\n",
      "List after extending: ['TCS', 'WIPRO', 'SBI', 'HDFCBANK', 'ICICIBANK', 'HINDUNILVR', 'MARUTI', 'ITC']\n"
     ]
    }
   ],
   "source": [
    "# Extending a list\n",
    "print(\"\\nExtending a list:\")\n",
    "new_stocks = ['MARUTI', 'ITC']\n",
    "stock_symbols.extend(new_stocks)  # Add elements from another list to the end\n",
    "print(\"List after extending:\", stock_symbols)"
   ]
  },
  {
   "cell_type": "code",
   "execution_count": 24,
   "id": "f1050a24-9f87-4b33-b9d5-b4a7b5df5d06",
   "metadata": {},
   "outputs": [
    {
     "name": "stdout",
     "output_type": "stream",
     "text": [
      "\n",
      "Index of an element:\n",
      "Index of 'HDFCBANK': 3\n"
     ]
    }
   ],
   "source": [
    "# Index of an element\n",
    "print(\"\\nIndex of an element:\")\n",
    "index = stock_symbols.index('HDFCBANK')  # Get the index of an element\n",
    "print(\"Index of 'HDFCBANK':\", index)"
   ]
  },
  {
   "cell_type": "code",
   "execution_count": 25,
   "id": "28f214d0-dd40-4ac2-8927-d4d761799d59",
   "metadata": {},
   "outputs": [
    {
     "name": "stdout",
     "output_type": "stream",
     "text": [
      "\n",
      "Count occurrences:\n",
      "Count of 'ICICIBANK': 1\n"
     ]
    }
   ],
   "source": [
    "# Count occurrences of an element\n",
    "print(\"\\nCount occurrences:\")\n",
    "count_icici = stock_symbols.count('ICICIBANK')  # Count occurrences of an element\n",
    "print(\"Count of 'ICICIBANK':\", count_icici)"
   ]
  },
  {
   "cell_type": "code",
   "execution_count": 26,
   "id": "602b3324-6245-4876-a958-5a986c7902d2",
   "metadata": {},
   "outputs": [
    {
     "name": "stdout",
     "output_type": "stream",
     "text": [
      "\n",
      "Sorting a list:\n",
      "Sorted list: ['HDFCBANK', 'HINDUNILVR', 'ICICIBANK', 'ITC', 'MARUTI', 'SBI', 'TCS', 'WIPRO', 'x', 'x', 'x', 'x', 'x', 'x']\n"
     ]
    }
   ],
   "source": [
    "# Sorting a list\n",
    "print(\"\\nSorting a list:\")\n",
    "stock_symbols.sort()  # Sort the list in alphabetical order\n",
    "print(\"Sorted list:\", stock_symbols)"
   ]
  },
  {
   "cell_type": "code",
   "execution_count": 27,
   "id": "65d64a22-d790-40cf-ae83-bd4020255c60",
   "metadata": {},
   "outputs": [
    {
     "name": "stdout",
     "output_type": "stream",
     "text": [
      "\n",
      "Reversing a list:\n",
      "Reversed list: ['x', 'x', 'x', 'x', 'x', 'x', 'WIPRO', 'TCS', 'SBI', 'MARUTI', 'ITC', 'ICICIBANK', 'HINDUNILVR', 'HDFCBANK']\n"
     ]
    }
   ],
   "source": [
    "# Reversing a list\n",
    "print(\"\\nReversing a list:\")\n",
    "stock_symbols.reverse()  # Reverse the order of elements in the list\n",
    "print(\"Reversed list:\", stock_symbols)"
   ]
  },
  {
   "cell_type": "code",
   "execution_count": 28,
   "id": "a0b9c616-3290-4639-aab5-338f83aeed9f",
   "metadata": {},
   "outputs": [],
   "source": [
    "c1=stock_symbols"
   ]
  },
  {
   "cell_type": "code",
   "execution_count": 35,
   "id": "c3030a52-4573-4618-84ff-d87e79ae9f62",
   "metadata": {},
   "outputs": [],
   "source": [
    "stock_symbols.append('fghij')"
   ]
  },
  {
   "cell_type": "code",
   "execution_count": 36,
   "id": "4b71015f-58e8-44ef-aa47-e44cd63f8d26",
   "metadata": {},
   "outputs": [
    {
     "data": {
      "text/plain": [
       "['x',\n",
       " 'x',\n",
       " 'x',\n",
       " 'x',\n",
       " 'x',\n",
       " 'x',\n",
       " 'WIPRO',\n",
       " 'TCS',\n",
       " 'SBI',\n",
       " 'MARUTI',\n",
       " 'ITC',\n",
       " 'ICICIBANK',\n",
       " 'HINDUNILVR',\n",
       " 'HDFCBANK',\n",
       " 'abcde',\n",
       " 'fghij']"
      ]
     },
     "execution_count": 36,
     "metadata": {},
     "output_type": "execute_result"
    }
   ],
   "source": [
    "stock_symbols"
   ]
  },
  {
   "cell_type": "code",
   "execution_count": 37,
   "id": "35c4132b-21f8-46e7-af19-1b8e0794b2ec",
   "metadata": {},
   "outputs": [
    {
     "data": {
      "text/plain": [
       "['x',\n",
       " 'x',\n",
       " 'x',\n",
       " 'x',\n",
       " 'x',\n",
       " 'x',\n",
       " 'WIPRO',\n",
       " 'TCS',\n",
       " 'SBI',\n",
       " 'MARUTI',\n",
       " 'ITC',\n",
       " 'ICICIBANK',\n",
       " 'HINDUNILVR',\n",
       " 'HDFCBANK',\n",
       " 'abcde']"
      ]
     },
     "execution_count": 37,
     "metadata": {},
     "output_type": "execute_result"
    }
   ],
   "source": [
    "stock_symbols_copy"
   ]
  },
  {
   "cell_type": "code",
   "execution_count": null,
   "id": "439a787c-d3c4-4daf-9595-c953e9419feb",
   "metadata": {},
   "outputs": [],
   "source": []
  },
  {
   "cell_type": "code",
   "execution_count": 34,
   "id": "20543ae6-fa63-434a-9cf5-8c15159c801d",
   "metadata": {},
   "outputs": [
    {
     "name": "stdout",
     "output_type": "stream",
     "text": [
      "\n",
      "Creating a copy:\n",
      "Copied list: ['x', 'x', 'x', 'x', 'x', 'x', 'WIPRO', 'TCS', 'SBI', 'MARUTI', 'ITC', 'ICICIBANK', 'HINDUNILVR', 'HDFCBANK', 'abcde']\n"
     ]
    }
   ],
   "source": [
    "# Creating a copy of a list\n",
    "print(\"\\nCreating a copy:\")\n",
    "stock_symbols_copy = stock_symbols.copy()  # Create a copy of the list\n",
    "print(\"Copied list:\", stock_symbols_copy)"
   ]
  },
  {
   "cell_type": "code",
   "execution_count": 38,
   "id": "1a9e1538-e14e-4912-a829-79f18e18c0a6",
   "metadata": {},
   "outputs": [
    {
     "name": "stdout",
     "output_type": "stream",
     "text": [
      "\n",
      "Clearing a list:\n",
      "Cleared list: []\n"
     ]
    }
   ],
   "source": [
    "# Clearing a list\n",
    "print(\"\\nClearing a list:\")\n",
    "stock_symbols.clear()  # Remove all elements from the list\n",
    "print(\"Cleared list:\", stock_symbols)"
   ]
  },
  {
   "cell_type": "code",
   "execution_count": 39,
   "id": "11072577-66af-4883-8e68-d41ca5ac5c6a",
   "metadata": {},
   "outputs": [
    {
     "name": "stdout",
     "output_type": "stream",
     "text": [
      "Original list: []\n"
     ]
    }
   ],
   "source": [
    "# Slicing the list\n",
    "print(\"Original list:\", stock_symbols)"
   ]
  },
  {
   "cell_type": "code",
   "execution_count": null,
   "id": "801ff983-3f5f-4001-b6f4-a5ec38388404",
   "metadata": {},
   "outputs": [],
   "source": [
    "# Getting a range of elements using slicing\n",
    "print(\"\\nGetting a range of elements using slicing:\")\n",
    "print(\"First three stock symbols:\", stock_symbols[:3])  # ['TCS', 'INFY', 'RELIANCE']\n",
    "print(\"Last three stock symbols:\", stock_symbols[-3:])  # ['HDFCBANK', 'ICICIBANK', 'HINDUNILVR']\n",
    "print(\"Middle three stock symbols:\", stock_symbols[1:4])  # ['INFY', 'RELIANCE', 'HDFCBANK']"
   ]
  },
  {
   "cell_type": "code",
   "execution_count": null,
   "id": "212b16d0-f2e0-4f80-b24a-cf85fb630245",
   "metadata": {},
   "outputs": [],
   "source": [
    "# Omitting start or end index in slicing\n",
    "print(\"\\nOmitting start or end index in slicing:\")\n",
    "print(\"First three stock symbols:\", stock_symbols[:3])  # ['TCS', 'INFY', 'RELIANCE']\n",
    "print(\"From index 2 to the end:\", stock_symbols[2:])   # ['RELIANCE', 'HDFCBANK', 'ICICIBANK', 'HINDUNILVR']"
   ]
  },
  {
   "cell_type": "code",
   "execution_count": 44,
   "id": "21843603-8e4b-422d-b9de-c4d9c86ad0cc",
   "metadata": {},
   "outputs": [
    {
     "name": "stdout",
     "output_type": "stream",
     "text": [
      "original list: ['TCS', 'INFY', 'RELIANCE']\n",
      "reverse: ['RELIANCE', 'INFY', 'TCS']\n",
      "original: ['TCS', 'INFY', 'RELIANCE']\n",
      "reversed: ['RELIANCE', 'INFY', 'TCS']\n"
     ]
    }
   ],
   "source": [
    "l1=['TCS', 'INFY', 'RELIANCE']\n",
    "print(\"original list:\",l1)\n",
    "print('reverse:',l1[::-1])\n",
    "print(\"original:\",l1)\n",
    "l1.reverse()\n",
    "print(\"reversed:\",l1)"
   ]
  },
  {
   "cell_type": "code",
   "execution_count": 47,
   "id": "2b46f46b-9439-489a-bb63-7c349f373a0d",
   "metadata": {},
   "outputs": [
    {
     "name": "stdout",
     "output_type": "stream",
     "text": [
      "\n",
      "Using step value in slicing:\n",
      "['TCS', 'INFY', 'RELIANCE', 'HDFCBANK', 'ICICIBANK', 'HINDUNILVR']\n",
      "Reversed list: ['HINDUNILVR', 'HDFCBANK', 'INFY']\n"
     ]
    }
   ],
   "source": [
    "# Using step value in slicing\n",
    "print(\"\\nUsing step value in slicing:\")\n",
    "print(stock_symbols)\n",
    "# print(\"Every second stock symbol:\", stock_symbols[::2])  # ['TCS', 'RELIANCE', 'ICICIBANK']\n",
    "print(\"Reversed list:\", stock_symbols[::-2])  # ['HINDUNILVR', 'ICICIBANK', 'HDFCBANK', 'RELIANCE', 'INFY', 'TCS']"
   ]
  },
  {
   "cell_type": "code",
   "execution_count": 48,
   "id": "dc52758a-d2a9-46e5-b3de-ebb65b76a8c0",
   "metadata": {},
   "outputs": [],
   "source": [
    "# Define a two-dimensional list of Indian stock market data\n",
    "stock_data = [\n",
    "    ['TCS', 3500, 3600, 3450],\n",
    "    ['INFY', 1700, 1750, 1680],\n",
    "    ['RELIANCE', 2200, 2250, 2150],\n",
    "    ['HDFCBANK', 1450, 1480, 1420],\n",
    "    ['ICICIBANK', 750, 780, 740],\n",
    "    ['HINDUNILVR', 2400, 2450, 2380]\n",
    "]"
   ]
  },
  {
   "cell_type": "code",
   "execution_count": 49,
   "id": "49fae835-c1c2-4137-bc68-0ed6d78f54b1",
   "metadata": {},
   "outputs": [
    {
     "name": "stdout",
     "output_type": "stream",
     "text": [
      "Stock data for RELIANCE: ['RELIANCE', 2200, 2250, 2150]\n",
      "Closing price of INFY: 1750\n"
     ]
    }
   ],
   "source": [
    "# Accessing elements from the two-dimensional list\n",
    "print(\"Stock data for RELIANCE:\", stock_data[2])  # Access the entire sublist for RELIANCE\n",
    "print(\"Closing price of INFY:\", stock_data[1][2])  # Access the closing price of INFY"
   ]
  },
  {
   "cell_type": "code",
   "execution_count": 50,
   "id": "ef6ec4e6-f003-423a-b9da-cd31b7886932",
   "metadata": {},
   "outputs": [
    {
     "name": "stdout",
     "output_type": "stream",
     "text": [
      "Updated stock data for HDFCBANK: ['HDFCBANK', 1460, 1480, 1420]\n"
     ]
    }
   ],
   "source": [
    "# Modifying elements in the two-dimensional list\n",
    "stock_data[3][1] = 1460  # Change the opening price of HDFCBANK\n",
    "print(\"Updated stock data for HDFCBANK:\", stock_data[3])"
   ]
  },
  {
   "cell_type": "code",
   "execution_count": 51,
   "id": "db3b4d59-ef53-4ac9-9f44-2e01a16344d5",
   "metadata": {},
   "outputs": [
    {
     "name": "stdout",
     "output_type": "stream",
     "text": [
      "List after adding WIPRO: [['TCS', 3500, 3600, 3450], ['INFY', 1700, 1750, 1680], ['RELIANCE', 2200, 2250, 2150], ['HDFCBANK', 1460, 1480, 1420], ['ICICIBANK', 750, 780, 740], ['HINDUNILVR', 2400, 2450, 2380], ['WIPRO', 450, 460, 445]]\n"
     ]
    }
   ],
   "source": [
    "# Adding a new row to the two-dimensional list\n",
    "new_stock = ['WIPRO', 450, 460, 445]\n",
    "stock_data.append(new_stock)\n",
    "print(\"List after adding WIPRO:\", stock_data)"
   ]
  },
  {
   "cell_type": "code",
   "execution_count": 52,
   "id": "dd37cec9-dc7d-45ac-949a-6baae2eced0f",
   "metadata": {},
   "outputs": [
    {
     "name": "stdout",
     "output_type": "stream",
     "text": [
      "Removed stock data: ['ICICIBANK', 750, 780, 740]\n",
      "List after removal: [['TCS', 3500, 3600, 3450], ['INFY', 1700, 1750, 1680], ['RELIANCE', 2200, 2250, 2150], ['HDFCBANK', 1460, 1480, 1420], ['HINDUNILVR', 2400, 2450, 2380], ['WIPRO', 450, 460, 445]]\n"
     ]
    }
   ],
   "source": [
    "# Removing a row from the two-dimensional list\n",
    "removed_stock = stock_data.pop(4)  # Remove ICICIBANK's data\n",
    "print(\"Removed stock data:\", removed_stock)\n",
    "print(\"List after removal:\", stock_data)"
   ]
  },
  {
   "cell_type": "code",
   "execution_count": 54,
   "id": "98afcbe2-cb21-4452-92e8-8d697ed85705",
   "metadata": {},
   "outputs": [],
   "source": [
    "# Define tuples for Indian stock market data\n",
    "tcs_data = ('TCS', 3500, 3600, 3450)\n",
    "infy_data = ('INFY', 1700, 1750, 1680)\n",
    "reliance_data = ('RELIANCE', 2200, 2250, 2150)\n",
    "hdfc_data = ('HDFCBANK', 1450, 1480, 1420)\n",
    "icici_data = ('ICICIBANK', 750, 780, 740)\n",
    "hul_data = ('HINDUNILVR', 2400, 2450, 2380)"
   ]
  },
  {
   "cell_type": "code",
   "execution_count": 55,
   "id": "81f1e5fa-6cff-4bd7-b605-537bf325e724",
   "metadata": {},
   "outputs": [
    {
     "name": "stdout",
     "output_type": "stream",
     "text": [
      "Opening price of Reliance: 2200\n",
      "High price of HUL: 2450\n"
     ]
    }
   ],
   "source": [
    "# Accessing elements from tuples\n",
    "print(\"Opening price of Reliance:\", reliance_data[1])\n",
    "print(\"High price of HUL:\", hul_data[2])"
   ]
  },
  {
   "cell_type": "code",
   "execution_count": null,
   "id": "03a834ea-0d9e-4cf2-9b55-f27faed9c702",
   "metadata": {},
   "outputs": [],
   "source": [
    "l2=[2,4,6]\n",
    "even1=l2[0]\n",
    "even2=l2[1]\n",
    "even3=l2[2]"
   ]
  },
  {
   "cell_type": "code",
   "execution_count": 56,
   "id": "78eb91f7-961d-4747-bde9-8d133a0b0749",
   "metadata": {},
   "outputs": [
    {
     "name": "stdout",
     "output_type": "stream",
     "text": [
      "Stock symbol: TCS\n",
      "Opening price: 3500\n",
      "High price: 3600\n",
      "Low price: 3450\n"
     ]
    }
   ],
   "source": [
    "# Unpacking tuple elements\n",
    "stock_symbol, opening_price, high_price, low_price = tcs_data\n",
    "print(\"Stock symbol:\", stock_symbol)\n",
    "print(\"Opening price:\", opening_price)\n",
    "print(\"High price:\", high_price)\n",
    "print(\"Low price:\", low_price)"
   ]
  },
  {
   "cell_type": "code",
   "execution_count": 57,
   "id": "951b6ba8-fdf7-4f54-a9a6-e3b9167cc5d1",
   "metadata": {},
   "outputs": [
    {
     "name": "stdout",
     "output_type": "stream",
     "text": [
      "List of stock data: [('TCS', 3500, 3600, 3450), ('INFY', 1700, 1750, 1680), ('RELIANCE', 2200, 2250, 2150), ('HDFCBANK', 1450, 1480, 1420), ('ICICIBANK', 750, 780, 740), ('HINDUNILVR', 2400, 2450, 2380)]\n"
     ]
    }
   ],
   "source": [
    "# Combining tuples into a list of tuples\n",
    "stock_data_list = [tcs_data, infy_data, reliance_data, hdfc_data, icici_data, hul_data]\n",
    "print(\"List of stock data:\", stock_data_list)"
   ]
  },
  {
   "cell_type": "code",
   "execution_count": 58,
   "id": "8b2cb825-746d-4a93-b2c4-65f8e7fc00ac",
   "metadata": {},
   "outputs": [
    {
     "name": "stdout",
     "output_type": "stream",
     "text": [
      "Tuple converted to a list: ['TCS', 3500, 3600, 3450]\n"
     ]
    }
   ],
   "source": [
    "# Converting a tuple to a list\n",
    "tcs_list = list(tcs_data)\n",
    "print(\"Tuple converted to a list:\", tcs_list)"
   ]
  },
  {
   "cell_type": "code",
   "execution_count": null,
   "id": "d5b28168-9ac7-4832-8fbc-515864803233",
   "metadata": {},
   "outputs": [],
   "source": [
    "# Creating a tuple with a single element\n",
    "single_element_tuple = (42,)\n",
    "print(\"Single-element tuple:\", single_element_tuple)"
   ]
  },
  {
   "cell_type": "code",
   "execution_count": null,
   "id": "f6122401-3f8c-4c49-9e91-95a33cef881a",
   "metadata": {},
   "outputs": [],
   "source": [
    "# Define a tuple of lists for Indian stock market data\n",
    "stock_data_tup = (\n",
    "    ['TCS', 3500, 3600, 3450],\n",
    "    ['INFY', 1700, 1750, 1680],\n",
    "    ['RELIANCE', 2200, 2250, 2150],\n",
    "    ['HDFCBANK', 1450, 1480, 1420],\n",
    "    ['ICICIBANK', 750, 780, 740],\n",
    "    ['HINDUNILVR', 2400, 2450, 2380]\n",
    ")"
   ]
  },
  {
   "cell_type": "code",
   "execution_count": null,
   "id": "7ba0ab89-93a4-45e3-a408-2434e6f91050",
   "metadata": {},
   "outputs": [],
   "source": [
    "# Accessing elements from the tuple of lists\n",
    "print(\"Opening price of Reliance:\", stock_data_tup[2][1])\n",
    "print(\"High price of HDFCBANK:\", stock_data_tup[3][2])"
   ]
  },
  {
   "cell_type": "code",
   "execution_count": null,
   "id": "30ac67ff-0194-4dc3-ae56-00c8efc68dbf",
   "metadata": {},
   "outputs": [],
   "source": [
    "# Modifying elements in the tuple of lists\n",
    "stock_data_tup[1][2] = 1780  # Change the high price of INFY\n",
    "print(\"Updated stock data for INFY:\", stock_data_tup[1])"
   ]
  },
  {
   "cell_type": "code",
   "execution_count": null,
   "id": "0259efed-eae9-43a6-89cc-0742b653b117",
   "metadata": {},
   "outputs": [],
   "source": [
    "# Converting a tuple to a list of lists\n",
    "stock_data_list = list(stock_data_tup)\n",
    "print(\"Tuple of lists converted to a list of lists:\", stock_data_list)"
   ]
  },
  {
   "cell_type": "code",
   "execution_count": null,
   "id": "a5e41567-b36d-4431-9cdc-d2411fff67b0",
   "metadata": {},
   "outputs": [],
   "source": [
    "# Creating a new list and adding it to the tuple\n",
    "new_stock = ['WIPRO', 450, 460, 445]\n",
    "stock_data_list.append(new_stock)\n",
    "stock_data_tup = tuple(stock_data_list)  # Convert back to a tuple\n",
    "print(\"Tuple after adding a new stock:\", stock_data_tup)"
   ]
  },
  {
   "cell_type": "markdown",
   "id": "72f1a1bf-702a-4ae3-8c53-0026151ee1f9",
   "metadata": {},
   "source": [
    "### Lists (Mutable):\n",
    "Lists in Python are mutable, which means you can modify their elements after they are created. This includes changing, adding, or removing elements from the list. Lists are denoted by square brackets [ ]"
   ]
  },
  {
   "cell_type": "code",
   "execution_count": null,
   "id": "1b06ec3e-5aa1-4ff7-b1e4-d1f0aafa24f1",
   "metadata": {},
   "outputs": [],
   "source": [
    "stock_symbols = ['TCS', 'INFY', 'RELIANCE']\n",
    "print(\"Original list:\", stock_symbols)"
   ]
  },
  {
   "cell_type": "code",
   "execution_count": null,
   "id": "16570104-24b4-4326-bcd1-98fb94c3c909",
   "metadata": {},
   "outputs": [],
   "source": [
    "# Modifying an element\n",
    "stock_symbols[1] = 'WIPRO'\n",
    "print(\"List after modification:\", stock_symbols)"
   ]
  },
  {
   "cell_type": "code",
   "execution_count": null,
   "id": "c2e18601-5935-450a-b342-bafa2d4b4903",
   "metadata": {},
   "outputs": [],
   "source": [
    "# Adding an element\n",
    "stock_symbols.append('HDFCBANK')\n",
    "print(\"List after addition:\", stock_symbols)"
   ]
  },
  {
   "cell_type": "code",
   "execution_count": null,
   "id": "0c061f07-d753-47a8-80c8-a1164262d68a",
   "metadata": {},
   "outputs": [],
   "source": [
    "# Removing an element\n",
    "stock_symbols.remove('RELIANCE')\n",
    "print(\"List after removal:\", stock_symbols)"
   ]
  },
  {
   "cell_type": "markdown",
   "id": "372a36eb-1c80-44db-9230-7b8e76334937",
   "metadata": {},
   "source": [
    "### Tuples (Immutable):\n",
    "Tuples in Python are immutable, which means once they are created, their elements cannot be changed or modified. You can access elements from tuples, but you cannot change, add, or remove elements from them. Tuples are denoted by parentheses ( )."
   ]
  },
  {
   "cell_type": "code",
   "execution_count": 59,
   "id": "be02535c-1d2f-4c7d-98c1-29805ee1c356",
   "metadata": {},
   "outputs": [
    {
     "name": "stdout",
     "output_type": "stream",
     "text": [
      "Original tuple: ('TCS', 3500, 3600, 3450)\n"
     ]
    }
   ],
   "source": [
    "stock_data = ('TCS', 3500, 3600, 3450)\n",
    "print(\"Original tuple:\", stock_data)"
   ]
  },
  {
   "cell_type": "code",
   "execution_count": 60,
   "id": "1e8daa71-19fd-46e0-8b8e-487c60841bb0",
   "metadata": {},
   "outputs": [
    {
     "name": "stdout",
     "output_type": "stream",
     "text": [
      "Stock symbol: TCS\n"
     ]
    }
   ],
   "source": [
    "# Accessing elements\n",
    "stock_symbol = stock_data[0]\n",
    "print(\"Stock symbol:\", stock_symbol)"
   ]
  },
  {
   "cell_type": "code",
   "execution_count": 61,
   "id": "cb04d7b2-e6ac-4780-b56b-31d9afa70fac",
   "metadata": {},
   "outputs": [
    {
     "ename": "TypeError",
     "evalue": "'tuple' object does not support item assignment",
     "output_type": "error",
     "traceback": [
      "\u001b[0;31m---------------------------------------------------------------------------\u001b[0m",
      "\u001b[0;31mTypeError\u001b[0m                                 Traceback (most recent call last)",
      "Cell \u001b[0;32mIn[61], line 2\u001b[0m\n\u001b[1;32m      1\u001b[0m \u001b[38;5;66;03m# Attempting to modify a tuple (this will result in an error)\u001b[39;00m\n\u001b[0;32m----> 2\u001b[0m \u001b[43mstock_data\u001b[49m\u001b[43m[\u001b[49m\u001b[38;5;241;43m1\u001b[39;49m\u001b[43m]\u001b[49m \u001b[38;5;241m=\u001b[39m \u001b[38;5;241m3700\u001b[39m  \u001b[38;5;66;03m# This will raise a TypeError\u001b[39;00m\n",
      "\u001b[0;31mTypeError\u001b[0m: 'tuple' object does not support item assignment"
     ]
    }
   ],
   "source": [
    "# Attempting to modify a tuple (this will result in an error)\n",
    "stock_data[1] = 3700  # This will raise a TypeError"
   ]
  },
  {
   "cell_type": "markdown",
   "id": "0d31635e-bd37-463f-accb-9ccfb0884a5c",
   "metadata": {},
   "source": [
    "A dictionary in Python is a versatile data structure that stores key-value pairs. It allows you to map keys to values, making it easy to retrieve values using their corresponding keys. Dictionaries are often used to represent data with a clear relationship between keys and values. Here's an explanation of the use of dictionaries along with examples:\n",
    "\n",
    "### Key Features of Dictionaries:\n",
    "\n",
    "* Dictionaries are enclosed in curly braces {}.\n",
    "* Each key-value pair is separated by a colon : within the dictionary.\n",
    "* Keys must be unique and immutable (strings, numbers, tuples), while values can be of any data type.\n",
    "* Dictionaries are unordered, meaning the elements are not stored in a specific order.\n"
   ]
  },
  {
   "cell_type": "markdown",
   "id": "a81fbd35-94b6-45e5-b011-3b1ff5824664",
   "metadata": {},
   "source": [
    "### Mapping and Lookup:\n",
    "Dictionaries are commonly used to store and retrieve information using meaningful keys. For example, in the context of stock market data, you can use stock symbols as keys and their corresponding opening prices as values."
   ]
  },
  {
   "cell_type": "code",
   "execution_count": null,
   "id": "c82defed-1bf9-4f03-900e-7ae8fa0b1188",
   "metadata": {},
   "outputs": [],
   "source": [
    "stock_prices = {\n",
    "    'TCS': 3500,\n",
    "    'INFY': 1700,\n",
    "    'RELIANCE': 2200,\n",
    "    'HDFCBANK': 1450,\n",
    "    'ICICIBANK': 750,\n",
    "    'HINDUNILVR': 2400\n",
    "}\n",
    "\n",
    "print(\"Opening price of TCS:\", stock_prices['TCS'])  # Retrieve value using key"
   ]
  },
  {
   "cell_type": "markdown",
   "id": "41871363-0d64-4e05-bde4-f3a2487f1087",
   "metadata": {},
   "source": [
    "### Data Organization:\n",
    "Dictionaries are useful for organizing and managing data with complex relationships. For instance, you can use dictionaries to store various attributes of a stock, such as its name, sector, and recent performance."
   ]
  },
  {
   "cell_type": "code",
   "execution_count": 63,
   "id": "7791761d-c876-4eac-8986-2f15a6474320",
   "metadata": {},
   "outputs": [
    {
     "name": "stdout",
     "output_type": "stream",
     "text": [
      "Sector of TCS: IT\n"
     ]
    }
   ],
   "source": [
    "tcs_data = {\n",
    "    'name': 'TCS',\n",
    "    'sector': 'IT',\n",
    "    'price': 3500,\n",
    "    'high': 3600,\n",
    "    'low': 3450\n",
    "}\n",
    "\n",
    "print(\"Sector of TCS:\", tcs_data['sector'])"
   ]
  },
  {
   "cell_type": "code",
   "execution_count": 67,
   "id": "d560cf8a-1e33-4286-b979-e5963335b053",
   "metadata": {},
   "outputs": [
    {
     "data": {
      "text/plain": [
       "{'name': 'TCS', 'sector': 'Pharma', 'price': 3500, 'high': 3600, 'low': 3450}"
      ]
     },
     "execution_count": 67,
     "metadata": {},
     "output_type": "execute_result"
    }
   ],
   "source": [
    "# tcs_data['sector']='Pharma'\n",
    "tcs_data"
   ]
  },
  {
   "cell_type": "markdown",
   "id": "067e7671-1fd0-45f5-a19a-6863ecf1a622",
   "metadata": {},
   "source": [
    "### Counting and Frequency Analysis:\n",
    "Dictionaries can be used to count occurrences or perform frequency analysis of elements in a dataset. For instance, you can use a dictionary to count the occurrences of stock sectors in a list of stocks."
   ]
  },
  {
   "cell_type": "code",
   "execution_count": null,
   "id": "a6cd07cd-8eb6-4204-9c23-008401e09eab",
   "metadata": {},
   "outputs": [],
   "source": [
    "stock_sectors = ['IT', 'Finance', 'Energy', 'IT', 'Finance', 'Pharma']\n",
    "sector_count = {}\n",
    "\n",
    "for sector in stock_sectors:\n",
    "    if sector in sector_count:\n",
    "        sector_count[sector] += 1\n",
    "    else:\n",
    "        sector_count[sector] = 1\n",
    "\n",
    "print(\"Sector count:\", sector_count)\n"
   ]
  },
  {
   "cell_type": "markdown",
   "id": "640fd3d3-f535-40a3-b970-ef49a27b4c7c",
   "metadata": {},
   "source": [
    "### Flexible Data Storage:\n",
    "Dictionaries are a flexible way to store data, as values can be of different types and the structure can be nested. This makes them suitable for representing complex relationships in various applications"
   ]
  },
  {
   "cell_type": "code",
   "execution_count": null,
   "id": "18f1c862-815e-4191-9d4b-23d2dd735824",
   "metadata": {},
   "outputs": [],
   "source": [
    "stock_info = {\n",
    "    'TCS': {'sector': 'IT', 'price': 3500},\n",
    "    'RELIANCE': {'sector': 'Energy', 'price': 2200}\n",
    "}\n",
    "\n",
    "print(\"Sector of RELIANCE:\", stock_info['RELIANCE']['sector'])\n"
   ]
  },
  {
   "cell_type": "code",
   "execution_count": null,
   "id": "eccbd57c-e540-4d46-a053-f61b6f9c21b5",
   "metadata": {},
   "outputs": [],
   "source": [
    "# Dictionary with list and tuple values\n",
    "stock_data = {\n",
    "    'TCS': [3500, 3600, 3450],\n",
    "    'INFY': (1700, 1750, 1680),\n",
    "    'RELIANCE': [2200, 2250, 2150],\n",
    "    'HDFCBANK': (1450, 1480, 1420)\n",
    "}"
   ]
  },
  {
   "cell_type": "code",
   "execution_count": null,
   "id": "a413f643-6066-433d-ae13-fb8b7d483bbf",
   "metadata": {},
   "outputs": [],
   "source": [
    "# Accessing elements from the dictionary\n",
    "print(\"Opening price of TCS:\", stock_data['TCS'][0])  # Access list element\n",
    "print(\"High price of INFY:\", stock_data['INFY'][1])    # Access tuple element"
   ]
  },
  {
   "cell_type": "code",
   "execution_count": null,
   "id": "e011afeb-a74e-4026-860b-94ba358c9e5a",
   "metadata": {},
   "outputs": [],
   "source": [
    "# Modifying elements in the dictionary\n",
    "stock_data['RELIANCE'][2] = 2120  # Change the low price of RELIANCE\n",
    "print(\"Updated stock data for RELIANCE:\", stock_data['RELIANCE'])"
   ]
  },
  {
   "cell_type": "code",
   "execution_count": null,
   "id": "bd70fce6-d97a-4ff3-9e1b-b4750f0abdb8",
   "metadata": {},
   "outputs": [],
   "source": [
    "# Adding new data to the dictionary\n",
    "stock_data['ICICIBANK'] = [750, 780, 740]  # Add ICICIBANK's data as a list\n",
    "stock_data['WIPRO'] = (450, 460, 445)      # Add WIPRO's data as a tuple\n",
    "print(\"Dictionary after addition:\", stock_data)"
   ]
  },
  {
   "cell_type": "code",
   "execution_count": null,
   "id": "1a8208b1-4d23-4de2-b058-5bac7cce9a99",
   "metadata": {},
   "outputs": [],
   "source": [
    "# Removing data from the dictionary\n",
    "removed_data = stock_data.pop('TCS')  # Remove TCS's data\n",
    "print(\"Removed stock data:\", removed_data)\n",
    "print(\"Dictionary after removal:\", stock_data)"
   ]
  },
  {
   "cell_type": "markdown",
   "id": "454a674f-de6a-4eb1-b3ef-1dca6fb194f5",
   "metadata": {},
   "source": [
    "if Statement:\n",
    "The if statement is used to execute a block of code if a given condition is True. If the condition is not met, the block of code is skipped."
   ]
  },
  {
   "cell_type": "code",
   "execution_count": null,
   "id": "b44e0514-9dfb-4861-af62-6c31f759010f",
   "metadata": {},
   "outputs": [],
   "source": [
    "stock_price = 3600\n",
    "\n",
    "if stock_price > 3500:\n",
    "    print(\"Stock price is above 3500\")\n"
   ]
  },
  {
   "cell_type": "markdown",
   "id": "bde86933-9bf9-45ec-a625-e4ed2cdf73bf",
   "metadata": {},
   "source": [
    "if-else Statement:\n",
    "The if-else statement is used to execute one block of code if the condition is True and another block if the condition is False."
   ]
  },
  {
   "cell_type": "code",
   "execution_count": null,
   "id": "be781051-82f5-480b-bc02-0688311298c3",
   "metadata": {},
   "outputs": [],
   "source": [
    "stock_price = 3400\n",
    "\n",
    "if stock_price > 3500:\n",
    "    print(\"Stock price is above 3500\")\n",
    "else:\n",
    "    print(\"Stock price is below 3500\")"
   ]
  },
  {
   "cell_type": "markdown",
   "id": "1605f0c2-6ef9-41dc-9530-06c4b3cfce5c",
   "metadata": {},
   "source": [
    "elif Statement:\n",
    "The elif statement allows you to check multiple conditions in a sequence and execute the block of code corresponding to the first condition that is True."
   ]
  },
  {
   "cell_type": "code",
   "execution_count": null,
   "id": "7630036c-d625-4593-bba8-40952f34d47c",
   "metadata": {},
   "outputs": [],
   "source": [
    "stock_price = 3700\n",
    "\n",
    "if stock_price > 3800:\n",
    "    print(\"Stock price is very high\")\n",
    "elif stock_price > 3500:\n",
    "    print(\"Stock price is high\")\n",
    "else:\n",
    "    print(\"Stock price is moderate\")\n"
   ]
  },
  {
   "cell_type": "markdown",
   "id": "122332e3-b0f1-4170-a2ca-54cdb4e5e92d",
   "metadata": {},
   "source": [
    "Nested Conditional Statements:\n",
    "You can nest conditional statements within each other to handle more complex scenarios. This is useful when you have multiple levels of conditions to check."
   ]
  },
  {
   "cell_type": "code",
   "execution_count": null,
   "id": "97fbb94c-fcd5-4bdf-b3c1-948ccd8cfd03",
   "metadata": {},
   "outputs": [],
   "source": [
    "stock_price = 2500\n",
    "sector = 'IT'\n",
    "\n",
    "if sector == 'IT':\n",
    "    if stock_price > 2400:\n",
    "        print(\"IT stock with high price\")\n",
    "    else:\n",
    "        print(\"IT stock with moderate price\")\n",
    "else:\n",
    "    print(\"Non-IT stock\")\n"
   ]
  },
  {
   "cell_type": "markdown",
   "id": "aa152bfe-775c-4208-94d5-21316ad85e19",
   "metadata": {},
   "source": [
    "Ternary operators, also known as conditional expressions, are a concise way to express a conditional statement in a single line of code. They allow you to evaluate an expression based on a condition and return one of two values depending on whether the condition is true or false"
   ]
  },
  {
   "cell_type": "code",
   "execution_count": null,
   "id": "ef215fb9-acc8-4893-854b-249c3628c803",
   "metadata": {},
   "outputs": [],
   "source": [
    "stock_price = 3600\n",
    "status = \"High\" if stock_price > 3500 else \"Low\"\n",
    "print(\"Stock status:\", status)"
   ]
  },
  {
   "cell_type": "code",
   "execution_count": null,
   "id": "f5a1e471-6dd3-497b-a9f5-551cb5af003e",
   "metadata": {},
   "outputs": [],
   "source": [
    "discount_percent = 15\n",
    "final_price = 500 if discount_percent > 10 else 600\n",
    "print(\"Final price:\", final_price)"
   ]
  },
  {
   "cell_type": "code",
   "execution_count": null,
   "id": "cff3767b-75fd-4542-829c-01c98fd65dc4",
   "metadata": {},
   "outputs": [],
   "source": [
    "stock_symbols = ['TCS', 'INFY', 'RELIANCE', 'HDFCBANK', 'ICICIBANK', 'HINDUNILVR']\n",
    "\n",
    "for symbol in stock_symbols:\n",
    "    print(\"Stock symbol:\", symbol)\n"
   ]
  },
  {
   "cell_type": "code",
   "execution_count": 68,
   "id": "72b28e33-59d7-4ea4-b2c0-da622a983895",
   "metadata": {},
   "outputs": [
    {
     "name": "stdout",
     "output_type": "stream",
     "text": [
      "Total value of stocks: 8950\n"
     ]
    }
   ],
   "source": [
    "stock_prices = {'TCS': 3600, 'INFY': 1700, 'RELIANCE': 2200, 'HDFCBANK': 1450}\n",
    "\n",
    "total_value = 0\n",
    "for symbol, price in stock_prices.items():\n",
    "    total_value += price\n",
    "\n",
    "print(\"Total value of stocks:\", total_value)\n"
   ]
  },
  {
   "cell_type": "code",
   "execution_count": 69,
   "id": "5cfa069a-c1f3-4b14-bdc9-166bf87fd1eb",
   "metadata": {},
   "outputs": [
    {
     "name": "stdout",
     "output_type": "stream",
     "text": [
      "TCS\n",
      "INFY\n",
      "RELIANCE\n",
      "HDFCBANK\n"
     ]
    }
   ],
   "source": [
    "for i in stock_prices:\n",
    "    print(i)"
   ]
  },
  {
   "cell_type": "code",
   "execution_count": 70,
   "id": "406aa469-de74-4708-bbfa-d642e1cddcae",
   "metadata": {},
   "outputs": [
    {
     "name": "stdout",
     "output_type": "stream",
     "text": [
      "Iteration: 1\n",
      "Iteration: 2\n",
      "Iteration: 3\n",
      "Iteration: 4\n",
      "Iteration: 5\n"
     ]
    }
   ],
   "source": [
    "for i in range(1, 6):\n",
    "    print(\"Iteration:\", i)"
   ]
  },
  {
   "cell_type": "code",
   "execution_count": 74,
   "id": "f60dd080-192a-4856-a636-7801fb8f140c",
   "metadata": {},
   "outputs": [
    {
     "data": {
      "text/plain": [
       "['T', 'C', 'S']"
      ]
     },
     "execution_count": 74,
     "metadata": {},
     "output_type": "execute_result"
    }
   ],
   "source": [
    "stock_symbol = 'TCS'\n",
    "type(stock_symbol)\n",
    "list(stock_symbol)"
   ]
  },
  {
   "cell_type": "code",
   "execution_count": 75,
   "id": "b13fd44b-71e0-474b-ac69-b966ea4976bd",
   "metadata": {},
   "outputs": [
    {
     "name": "stdout",
     "output_type": "stream",
     "text": [
      "Character: T\n",
      "Character: C\n",
      "Character: S\n"
     ]
    }
   ],
   "source": [
    "stock_symbol = 'TCS'\n",
    "\n",
    "for char in stock_symbol:\n",
    "    print(\"Character:\", char)\n"
   ]
  },
  {
   "cell_type": "code",
   "execution_count": 76,
   "id": "e678627a-c8e9-4cc6-aa12-d2f712570d60",
   "metadata": {},
   "outputs": [
    {
     "name": "stdout",
     "output_type": "stream",
     "text": [
      "* \n",
      "* * \n",
      "* * * \n",
      "* * * * \n",
      "* * * * * \n"
     ]
    }
   ],
   "source": [
    "for i in range(5):\n",
    "    for j in range(i + 1):\n",
    "        print(\"*\", end=\" \")\n",
    "    print()\n"
   ]
  },
  {
   "cell_type": "code",
   "execution_count": 79,
   "id": "f1281214-b6cc-4dc3-9ca9-7bb5269324a1",
   "metadata": {},
   "outputs": [
    {
     "name": "stdout",
     "output_type": "stream",
     "text": [
      "Breaking loop at TCS\n",
      "Breaking loop at INFY\n",
      "Stock symbol: RELIANCE\n",
      "Breaking loop at HDFCBANK\n",
      "Breaking loop at ICICIBANK\n",
      "Breaking loop at HINDUNILVR\n"
     ]
    }
   ],
   "source": [
    "stock_symbols = ['TCS', 'INFY', 'RELIANCE', 'HDFCBANK', 'ICICIBANK', 'HINDUNILVR']\n",
    "\n",
    "for symbol in stock_symbols:\n",
    "    if symbol == 'RELIANCE':\n",
    "        print(\"Breaking loop at\", symbol)\n",
    "        continue\n",
    "    print(\"Stock symbol:\", symbol)\n"
   ]
  },
  {
   "cell_type": "code",
   "execution_count": 80,
   "id": "b826aad0-8ded-4e82-896e-ee7daf92f893",
   "metadata": {},
   "outputs": [
    {
     "name": "stdout",
     "output_type": "stream",
     "text": [
      "0 0\n",
      "0 1\n",
      "0 2\n",
      "1 0\n",
      "1 1\n",
      "Breaking nested loop at 1 2\n",
      "2 0\n",
      "Breaking nested loop at 2 1\n"
     ]
    }
   ],
   "source": [
    "for i in range(3):\n",
    "    for j in range(3):\n",
    "        if i + j == 3:\n",
    "            print(\"Breaking nested loop at\", i, j)\n",
    "            break\n",
    "        print(i, j)\n"
   ]
  },
  {
   "cell_type": "code",
   "execution_count": null,
   "id": "41437fe5-7895-4821-bfb4-4c185de35323",
   "metadata": {},
   "outputs": [],
   "source": []
  },
  {
   "cell_type": "code",
   "execution_count": null,
   "id": "e14c0055-0f22-4012-a634-2b71ad39fbba",
   "metadata": {},
   "outputs": [],
   "source": [
    "# Basic List Comprehension:\n",
    "numbers = [1, 2, 3, 4, 5]\n",
    "sq_list=[]\n",
    "for x in numbers:\n",
    "    if x % 2 == 0\n",
    "        sq_list.append(x ** 2)\n",
    "    \n",
    "squared_numbers = [x ** 2 for x in numbers]\n",
    "print(squared_numbers)  # Output: [1, 4, 9, 16, 25]\n"
   ]
  },
  {
   "cell_type": "code",
   "execution_count": 81,
   "id": "a212f708-3551-4e71-8a08-9f00dbc8e304",
   "metadata": {},
   "outputs": [
    {
     "name": "stdout",
     "output_type": "stream",
     "text": [
      "[2, 4]\n"
     ]
    }
   ],
   "source": [
    "# List Comprehension with Condition:\n",
    "numbers = [1, 2, 3, 4, 5]\n",
    "even_numbers = [x for x in numbers if x % 2 == 0]\n",
    "print(even_numbers)  # Output: [2, 4]\n"
   ]
  },
  {
   "cell_type": "code",
   "execution_count": 82,
   "id": "a9ad8cf6-dc8d-4e39-95c9-a8d8b093724f",
   "metadata": {},
   "outputs": [
    {
     "name": "stdout",
     "output_type": "stream",
     "text": [
      "['odd', 'even', 'odd', 'even', 'odd']\n"
     ]
    }
   ],
   "source": [
    "# List Comprehension with Conditional Expression:\n",
    "numbers = [1, 2, 3, 4, 5]\n",
    "number_info = [\"even\" if x % 2 == 0 else \"odd\" for x in numbers]\n",
    "print(number_info)  # Output: ['odd', 'even', 'odd', 'even', 'odd']\n"
   ]
  },
  {
   "cell_type": "code",
   "execution_count": 83,
   "id": "7d5015f3-ee1d-4dd4-98fa-904d5eb44f9b",
   "metadata": {},
   "outputs": [
    {
     "name": "stdout",
     "output_type": "stream",
     "text": [
      "[1, 2, 3, 4, 5, 6, 7, 8, 9]\n"
     ]
    }
   ],
   "source": [
    "# Nested List Comprehension:\n",
    "matrix = [[1, 2, 3], [4, 5, 6], [7, 8, 9]]\n",
    "flattened_matrix = [num for row in matrix for num in row]\n",
    "print(flattened_matrix)  # Output: [1, 2, 3, 4, 5, 6, 7, 8, 9]\n"
   ]
  },
  {
   "cell_type": "code",
   "execution_count": null,
   "id": "440c2add-6bcc-439a-9544-d407c35c3771",
   "metadata": {},
   "outputs": [],
   "source": [
    "# List Comprehension with Function:\n",
    "def square(x):\n",
    "    return x ** 2\n",
    "\n",
    "numbers = [1, 2, 3, 4, 5]\n",
    "squared_numbers = [square(x) for x in numbers]\n",
    "print(squared_numbers)  # Output: [1, 4, 9, 16, 25]\n"
   ]
  },
  {
   "cell_type": "code",
   "execution_count": null,
   "id": "2a5e4d90-6cf0-4697-8cbb-a065e8d6245d",
   "metadata": {},
   "outputs": [],
   "source": [
    "# List Comprehension with Filtering:\n",
    "stocks = [\n",
    "    {'symbol': 'TCS', 'price': 3600},\n",
    "    {'symbol': 'INFY', 'price': 1700},\n",
    "    {'symbol': 'RELIANCE', 'price': 2200}\n",
    "]\n",
    "high_price_stocks = [stock['symbol'] for stock in stocks if stock['price'] > 2000]\n",
    "print(high_price_stocks)  # Output: ['TCS', 'RELIANCE']"
   ]
  },
  {
   "cell_type": "code",
   "execution_count": null,
   "id": "1d174da4-2259-4a5d-940c-fa5c5859d591",
   "metadata": {},
   "outputs": [],
   "source": [
    "# List Comprehension with Multiple Iterables:\n",
    "fruits = ['apple', 'banana', 'orange']\n",
    "colors = ['red', 'yellow', 'orange']\n",
    "fruit_color_pairs = [(fruit, color) for fruit in fruits for color in colors]\n",
    "print(fruit_color_pairs)\n",
    "# Output: [('apple', 'red'), ('apple', 'yellow'), ('apple', 'orange'), ('banana', 'red'), ('banana', 'yellow'), ('banana', 'orange'), ('orange', 'red'), ('orange', 'yellow'), ('orange', 'orange')]\n"
   ]
  },
  {
   "cell_type": "code",
   "execution_count": null,
   "id": "828a6d53-7910-4e65-902d-84f89edae4bc",
   "metadata": {},
   "outputs": [],
   "source": []
  },
  {
   "cell_type": "code",
   "execution_count": null,
   "id": "e8c3e938-e0b4-44ff-bc42-932515483be3",
   "metadata": {},
   "outputs": [],
   "source": []
  },
  {
   "cell_type": "code",
   "execution_count": null,
   "id": "5e1f85bf-b3cf-450b-938e-69891ea4a7af",
   "metadata": {},
   "outputs": [],
   "source": [
    "def square(x):\n",
    "    return x ** 2\n",
    "\n",
    "numbers = [1, 2, 3, 4, 5]\n",
    "squared_numbers = [square(x) for x in numbers]\n",
    "print(squared_numbers)  # Output: [1, 4, 9, 16, 25]\n"
   ]
  },
  {
   "cell_type": "code",
   "execution_count": null,
   "id": "9d4a9c7c-db64-4403-b539-52a5a5f327af",
   "metadata": {},
   "outputs": [],
   "source": [
    "# Calculate the average closing price of a stock until a threshold is reached\n",
    "stock_prices = [3600, 3550, 3580, 3520, 3490]\n",
    "total_price = 0\n",
    "num_prices = 0\n",
    "\n",
    "while total_price < 18000:\n",
    "    total_price += stock_prices[num_prices]\n",
    "    num_prices += 1\n",
    "\n",
    "average_price = total_price / num_prices\n",
    "print(\"Average stock price:\", average_price)\n"
   ]
  },
  {
   "cell_type": "code",
   "execution_count": null,
   "id": "ea198a59-f36e-41b8-ae6d-fa3e5b18401c",
   "metadata": {},
   "outputs": [],
   "source": [
    "# Implement a countdown timer\n",
    "countdown = 10\n",
    "\n",
    "while countdown > 0:\n",
    "    print(\"Countdown:\", countdown)\n",
    "    countdown -= 1\n",
    "\n",
    "print(\"Blastoff!\")\n"
   ]
  },
  {
   "cell_type": "code",
   "execution_count": 85,
   "id": "d1cfddb2-df2a-4175-ab1f-3283581cc153",
   "metadata": {},
   "outputs": [
    {
     "name": "stdin",
     "output_type": "stream",
     "text": [
      "Enter a stock symbol:  abc\n"
     ]
    },
    {
     "name": "stdout",
     "output_type": "stream",
     "text": [
      "Invalid stock symbol. Try again.\n"
     ]
    },
    {
     "name": "stdin",
     "output_type": "stream",
     "text": [
      "Enter a stock symbol:  TCS\n"
     ]
    },
    {
     "name": "stdout",
     "output_type": "stream",
     "text": [
      "You entered a valid stock symbol: TCS\n"
     ]
    }
   ],
   "source": [
    "# Keep asking for user input until a valid stock symbol is entered\n",
    "valid_symbols = ['TCS', 'INFY', 'RELIANCE', 'HDFCBANK']\n",
    "user_input = input(\"Enter a stock symbol: \")\n",
    "\n",
    "while user_input not in valid_symbols:\n",
    "    print(\"Invalid stock symbol. Try again.\")\n",
    "    user_input = input(\"Enter a stock symbol: \")\n",
    "\n",
    "print(\"You entered a valid stock symbol:\", user_input)\n"
   ]
  },
  {
   "cell_type": "code",
   "execution_count": null,
   "id": "3c23c0e2-fb07-40e9-8a17-299212909d1c",
   "metadata": {},
   "outputs": [],
   "source": [
    "# Create an infinite loop that breaks on user command\n",
    "while True:\n",
    "    user_command = input(\"Enter 'quit' to exit: \")\n",
    "    if user_command == 'quit':\n",
    "        break\n",
    "\n",
    "print(\"Loop ended.\")\n"
   ]
  },
  {
   "cell_type": "markdown",
   "id": "c5cc1bb1-b921-4ff9-974f-0a2bf1c0141d",
   "metadata": {},
   "source": [
    "### Iterators:\n",
    "\n",
    "In Python, an iterator is an object that represents a stream of data and provides a way to traverse through that data one element at a time. Iterators are used to efficiently process large datasets without loading the entire dataset into memory at once. The built-in iter() function is used to create an iterator from an iterable (such as a list or tuple), and the next() function is used to access the next element in the iterator"
   ]
  },
  {
   "cell_type": "code",
   "execution_count": 99,
   "id": "07069e25-b90b-475b-b3bc-ecf8d7a431b2",
   "metadata": {},
   "outputs": [],
   "source": [
    "stock_symbols = ['TCS', 'INFY', 'RELIANCE', 'HDFCBANK']\n",
    "iterator = iter(stock_symbols)"
   ]
  },
  {
   "cell_type": "code",
   "execution_count": 104,
   "id": "4b7ce9af-66f7-4a2f-9d6b-7fb48eb47b70",
   "metadata": {},
   "outputs": [
    {
     "ename": "StopIteration",
     "evalue": "",
     "output_type": "error",
     "traceback": [
      "\u001b[0;31m---------------------------------------------------------------------------\u001b[0m",
      "\u001b[0;31mStopIteration\u001b[0m                             Traceback (most recent call last)",
      "Cell \u001b[0;32mIn[104], line 1\u001b[0m\n\u001b[0;32m----> 1\u001b[0m \u001b[38;5;28mprint\u001b[39m(\u001b[38;5;28;43mnext\u001b[39;49m\u001b[43m(\u001b[49m\u001b[43miterator\u001b[49m\u001b[43m)\u001b[49m)  \u001b[38;5;66;03m# 'TCS'\u001b[39;00m\n\u001b[1;32m      2\u001b[0m \u001b[38;5;66;03m# print(next(iterator))  # 'INFY'\u001b[39;00m\n\u001b[1;32m      3\u001b[0m \u001b[38;5;66;03m# print(next(iterator))  # 'RELIANCE'\u001b[39;00m\n",
      "\u001b[0;31mStopIteration\u001b[0m: "
     ]
    }
   ],
   "source": [
    "\n",
    "\n",
    "\n",
    "\n",
    "print(next(iterator))  # 'TCS'\n",
    "# print(next(iterator))  # 'INFY'\n",
    "# print(next(iterator))  # 'RELIANCE'\n"
   ]
  },
  {
   "cell_type": "code",
   "execution_count": 87,
   "id": "f24d0258-5af4-4ad6-9d8b-c7ae32eb5e07",
   "metadata": {},
   "outputs": [
    {
     "name": "stdout",
     "output_type": "stream",
     "text": [
      "RELIANCE\n"
     ]
    }
   ],
   "source": [
    "print(next(iterator))"
   ]
  },
  {
   "cell_type": "markdown",
   "id": "8e12c08e-ff57-451e-aaae-1cb903f5fdac",
   "metadata": {},
   "source": [
    "### Generators:\n",
    "\n",
    "Generators are a special type of iterator in Python. While iterators generate data on-the-fly as you iterate over them, generators provide a more concise and elegant way to create iterators. Generators are defined using functions and the yield keyword, which pauses the function's execution and saves its state for later resumption."
   ]
  },
  {
   "cell_type": "code",
   "execution_count": 141,
   "id": "42486f9d-693c-4bd7-93f6-7d1e20e6424e",
   "metadata": {},
   "outputs": [],
   "source": [
    "def number_generator():\n",
    "    current_number = 0\n",
    "    while current_number < 100000000000:\n",
    "        yield current_number\n",
    "        current_number += 1\n",
    "\n",
    "# Create a generator object\n",
    "numbers = number_generator()\n"
   ]
  },
  {
   "cell_type": "code",
   "execution_count": 135,
   "id": "462e562c-0161-4bef-8e96-4b4d27a943d0",
   "metadata": {},
   "outputs": [],
   "source": [
    "def number_generator():\n",
    "    current_number = 0\n",
    "    yield current_number\n",
    "    current_number = current_number+ 1\n",
    "    \n",
    "\n",
    "# Create a generator object\n",
    "numbers = number_generator()\n"
   ]
  },
  {
   "cell_type": "code",
   "execution_count": 154,
   "id": "f880abba-bbb4-4e1e-8cc6-03a0d3903dff",
   "metadata": {},
   "outputs": [
    {
     "name": "stdout",
     "output_type": "stream",
     "text": [
      "12\n"
     ]
    }
   ],
   "source": [
    "\n",
    "print(next(numbers))  # 0\n"
   ]
  },
  {
   "cell_type": "code",
   "execution_count": 155,
   "id": "b723fd55-ec8f-48ef-9c08-ef3f57cd7dda",
   "metadata": {},
   "outputs": [
    {
     "name": "stdout",
     "output_type": "stream",
     "text": [
      "Hello, world!\n"
     ]
    }
   ],
   "source": [
    "def greet():\n",
    "    \"\"\"\n",
    "    This function greets the user.\n",
    "    \n",
    "    Args:\n",
    "        name (str): The name of the user.\n",
    "    \"\"\"\n",
    "    print(f\"Hello, world!\")\n",
    "\n",
    "# Calling the function\n",
    "greet()\n"
   ]
  },
  {
   "cell_type": "code",
   "execution_count": 156,
   "id": "ff097b77-e5f5-4fd1-97c1-563485bec5e3",
   "metadata": {},
   "outputs": [
    {
     "name": "stdout",
     "output_type": "stream",
     "text": [
      "Hello, Alice!\n"
     ]
    }
   ],
   "source": [
    "def greet(name):\n",
    "    \"\"\"\n",
    "    This function greets the user.\n",
    "    \n",
    "    Args:\n",
    "        name (str): The name of the user.\n",
    "    \"\"\"\n",
    "    print(f\"Hello, {name}!\")\n",
    "\n",
    "# Calling the function\n",
    "greet(\"Alice\")\n"
   ]
  },
  {
   "cell_type": "code",
   "execution_count": 161,
   "id": "d18aae72-c9a6-4acf-aba5-5cf716374d64",
   "metadata": {},
   "outputs": [
    {
     "name": "stdout",
     "output_type": "stream",
     "text": [
      "Total price: 52.5\n"
     ]
    }
   ],
   "source": [
    "def calculate_total_price(price, quantity):\n",
    "    \"\"\"\n",
    "    This function calculates the total price.\n",
    "    \n",
    "    Args:\n",
    "        price (float): Price of a single unit.\n",
    "        quantity (int): Quantity of units.\n",
    "    \n",
    "    Returns:\n",
    "        float: The total price.\n",
    "    \"\"\"\n",
    "    total_price = price * quantity\n",
    "    return total_price\n",
    "\n",
    "# Calling the function\n",
    "unit_price = 10.50\n",
    "quantity = 5\n",
    "total = calculate_total_price(unit_price, quantity)\n",
    "print(\"Total price:\", total)\n"
   ]
  },
  {
   "cell_type": "code",
   "execution_count": 162,
   "id": "3413af07-2a14-4117-8334-5ab92c2d48c6",
   "metadata": {},
   "outputs": [
    {
     "name": "stdout",
     "output_type": "stream",
     "text": [
      "Stock: 3600, Price: TCS, Sector: Unknown\n",
      "Stock: RELIANCE, Price: 2200, Sector: Energy\n"
     ]
    }
   ],
   "source": [
    "def stock_info(name, price, sector=\"Unknown\"):\n",
    "    \"\"\"\n",
    "    This function provides stock information.\n",
    "    \n",
    "    Args:\n",
    "        name (str): Name of the stock.\n",
    "        price (float): Current stock price.\n",
    "        sector (str, optional): Sector of the stock. Defaults to \"Unknown\".\n",
    "    \"\"\"\n",
    "    print(f\"Stock: {name}, Price: {price}, Sector: {sector}\")\n",
    "\n",
    "# Calling the function\n",
    "stock_info(3600, \"TCS\")\n",
    "stock_info(\"RELIANCE\", 2200, \"Energy\")\n"
   ]
  },
  {
   "cell_type": "code",
   "execution_count": 163,
   "id": "20c04ef8-c19f-4168-8000-bab798ce9ffb",
   "metadata": {},
   "outputs": [
    {
     "name": "stdout",
     "output_type": "stream",
     "text": [
      "Trade Details: {'quantity': 100, 'symbol': 'TCS', 'action': 'Buy'}\n",
      "Trade Details: {'symbol2': 'HDFCBANK', 'quality': 50, 'action': 'Sell'}\n"
     ]
    }
   ],
   "source": [
    "def trade_info(**kwargs):\n",
    "    \"\"\"\n",
    "    This function provides trade information.\n",
    "    \n",
    "    Args:\n",
    "        kwargs (dict): Trade details including symbol, quantity, and action.\n",
    "    \"\"\"\n",
    "    print(\"Trade Details:\", kwargs)\n",
    "\n",
    "# Calling the function with keyword arguments\n",
    "trade_info(quantity=100,symbol=\"TCS\",  action=\"Buy\")\n",
    "trade_info(symbol2=\"HDFCBANK\", quality=50, action=\"Sell\")\n"
   ]
  },
  {
   "cell_type": "code",
   "execution_count": null,
   "id": "b7966a0a-b606-4285-9209-22faa74b77b2",
   "metadata": {},
   "outputs": [],
   "source": [
    "def get_stock_symbols(stock_data):\n",
    "    \"\"\"\n",
    "    This function extracts stock symbols from a list of stock data.\n",
    "    \n",
    "    Args:\n",
    "        stock_data (list): List of stock data.\n",
    "    \n",
    "    Returns:\n",
    "        list: List of stock symbols.\n",
    "    \"\"\"\n",
    "    symbols = [entry[0] for entry in stock_data]\n",
    "    return symbols\n",
    "\n",
    "# List of stock data\n",
    "stock_data = [\n",
    "    ['TCS', 3600, 3550],\n",
    "    ['INFY', 1700, 1680],\n",
    "    ['RELIANCE', 2200, 2150]\n",
    "]\n",
    "\n",
    "symbols_list = get_stock_symbols(stock_data)\n",
    "print(\"Stock symbols:\", symbols_list)\n"
   ]
  },
  {
   "cell_type": "code",
   "execution_count": null,
   "id": "f5b8e348-c771-4eb9-96bb-427d5055ce81",
   "metadata": {},
   "outputs": [],
   "source": [
    "def calculate_returns(price_data):\n",
    "    \"\"\"\n",
    "    This function calculates returns for each stock in a dictionary of prices.\n",
    "    \n",
    "    Args:\n",
    "        price_data (dict): Dictionary with stock symbols as keys and price lists as values.\n",
    "    \n",
    "    Returns:\n",
    "        dict: Dictionary with stock symbols as keys and returns as values.\n",
    "    \"\"\"\n",
    "    returns = {}\n",
    "    for symbol, prices in price_data.items():\n",
    "        initial_price = prices[0]\n",
    "        final_price = prices[-1]\n",
    "        returns[symbol] = ((final_price - initial_price) / initial_price) * 100\n",
    "    return returns\n",
    "\n",
    "# Dictionary of price data\n",
    "price_data = {\n",
    "    'TCS': [3600, 3550, 3605],\n",
    "    'INFY': [1700, 1720, 1750],\n",
    "    'RELIANCE': [2200, 2250, 2300]\n",
    "}\n",
    "\n",
    "returns_dict = calculate_returns(price_data)\n",
    "print(\"Stock returns:\", returns_dict)\n"
   ]
  },
  {
   "cell_type": "code",
   "execution_count": null,
   "id": "01c472e0-173f-4fd0-814b-3a5ff94a45eb",
   "metadata": {},
   "outputs": [],
   "source": [
    "def analyze_stock(stock_data):\n",
    "    \"\"\"\n",
    "    This function analyzes stock data and returns summary statistics.\n",
    "    \n",
    "    Args:\n",
    "        stock_data (list): List of stock data.\n",
    "    \n",
    "    Returns:\n",
    "        tuple: Summary statistics including min, max, and average prices.\n",
    "    \"\"\"\n",
    "    prices = [entry[1] for entry in stock_data]\n",
    "    min_price = min(prices)\n",
    "    max_price = max(prices)\n",
    "    avg_price = sum(prices) / len(prices)\n",
    "    return min_price, max_price, avg_price\n",
    "\n",
    "# List of stock data\n",
    "stock_data = [\n",
    "    ['TCS', 3600, 3550],\n",
    "    ['INFY', 1700, 1680],\n",
    "    ['RELIANCE', 2200, 2150]\n",
    "]\n",
    "\n",
    "min_price, max_price, avg_price = analyze_stock(stock_data)\n",
    "print(\"Min price:\", min_price)\n",
    "print(\"Max price:\", max_price)\n",
    "print(\"Average price:\", avg_price)\n"
   ]
  },
  {
   "cell_type": "code",
   "execution_count": null,
   "id": "e4df1139-f048-4eb1-a0ca-c45c6a35de7f",
   "metadata": {},
   "outputs": [],
   "source": [
    "def analyze_stock(stock_symbol, opening_price, closing_price, high_price, low_price, sector=\"Unknown\", **kwargs):\n",
    "    \"\"\"\n",
    "    This function analyzes stock data and provides a summary.\n",
    "\n",
    "    Args:\n",
    "        stock_symbol (str): Symbol of the stock.\n",
    "        opening_price (float): Opening price of the stock.\n",
    "        closing_price (float): Closing price of the stock.\n",
    "        high_price (float): Highest price during the day.\n",
    "        low_price (float): Lowest price during the day.\n",
    "        sector (str, optional): Sector of the stock. Defaults to \"Unknown\".\n",
    "        **kwargs: Additional keyword arguments for customization.\n",
    "    \"\"\"\n",
    "    print(\"Stock Symbol:\", stock_symbol)\n",
    "    print(\"Opening Price:\", opening_price)\n",
    "    print(\"Closing Price:\", closing_price)\n",
    "    print(\"High Price:\", high_price)\n",
    "    print(\"Low Price:\", low_price)\n",
    "    print(\"Sector:\", sector)\n",
    "    print(\"Additional Information:\", kwargs)\n",
    "\n",
    "# Calling the function with ordered arguments\n",
    "analyze_stock(\"TCS\", 3550, 3600, 3620, 3500)\n",
    "\n",
    "# Calling the function with labeled arguments and defaults\n",
    "analyze_stock(stock_symbol=\"INFY\", opening_price=1680, closing_price=1700, high_price=1720, low_price=1660, sector=\"IT\")\n",
    "\n",
    "# Calling the function with keyword arguments\n",
    "analyze_stock(stock_symbol=\"RELIANCE\", opening_price=2150, closing_price=2200, high_price=2250, low_price=2100, sector=\"Energy\", comments=\"Positive trends\", analysts=\"2 out of 3 recommend Buy\")\n"
   ]
  },
  {
   "cell_type": "code",
   "execution_count": null,
   "id": "b1036a35-d99d-4da4-96f0-fc13dcfce496",
   "metadata": {},
   "outputs": [],
   "source": [
    "def calculate_profit_loss(initial_price, final_price, quantity):\n",
    "    \"\"\"\n",
    "    Calculate the profit or loss based on initial and final stock prices and quantity.\n",
    "\n",
    "    :param initial_price: Initial stock price.\n",
    "    :param final_price: Final stock price.\n",
    "    :param quantity: Quantity of stocks.\n",
    "    :return: A tuple containing the profit/loss amount and a message.\n",
    "    \"\"\"\n",
    "    profit_loss = (final_price - initial_price) * quantity\n",
    "    if profit_loss > 0:\n",
    "        message = \"Profit\"\n",
    "    else:\n",
    "        message = \"Loss\"\n",
    "    return profit_loss, message\n",
    "\n",
    "# Example usage\n",
    "initial_price = 3000\n",
    "final_price = 3400\n",
    "quantity = 100\n",
    "profit_loss_amount, status = calculate_profit_loss(initial_price, final_price, quantity)\n",
    "print(f\"{status}: {profit_loss_amount} INR\")\n"
   ]
  },
  {
   "cell_type": "code",
   "execution_count": null,
   "id": "416c7850-6b19-446f-8072-32fe4ed50ff5",
   "metadata": {},
   "outputs": [],
   "source": [
    "def calculate_portfolio_value(stocks, stock_prices):\n",
    "    \"\"\"\n",
    "    Calculate the total value of a portfolio based on stocks and their prices.\n",
    "\n",
    "    :param stocks: List of stock symbols.\n",
    "    :param stock_prices: Dictionary of stock prices.\n",
    "    :return: Total portfolio value.\n",
    "    \"\"\"\n",
    "    total_value = 0\n",
    "    for stock in stocks:\n",
    "        if stock in stock_prices:\n",
    "            total_value += stock_prices[stock]\n",
    "    return total_value\n",
    "\n",
    "# Example usage\n",
    "portfolio_stocks = ['TCS', 'RELIANCE', 'HDFCBANK']\n",
    "stock_prices = {'TCS': 3500, 'RELIANCE': 2200, 'HDFCBANK': 1450, 'INFY': 1600}\n",
    "portfolio_value = calculate_portfolio_value(portfolio_stocks, stock_prices)\n",
    "print(\"Total Portfolio Value:\", portfolio_value)\n"
   ]
  },
  {
   "cell_type": "code",
   "execution_count": null,
   "id": "4acc309a-a3d0-4202-9c47-512ec0bd5076",
   "metadata": {},
   "outputs": [],
   "source": [
    "def stock_analysis(stock_data, threshold=1500):\n",
    "    \"\"\"\n",
    "    Analyze stock data based on a threshold.\n",
    "\n",
    "    :param stock_data: Dictionary of stock symbols and prices.\n",
    "    :param threshold: Threshold price for analysis.\n",
    "    :return: List of stock symbols that meet the threshold.\n",
    "    \"\"\"\n",
    "    selected_stocks = []\n",
    "    for stock, price in stock_data.items():\n",
    "        if price >= threshold:\n",
    "            selected_stocks.append(stock)\n",
    "    return selected_stocks\n",
    "\n",
    "# Example usage\n",
    "stock_data = {'TCS': 3500, 'RELIANCE': 2200, 'HDFCBANK': 1450, 'ICICIBANK': 800}\n",
    "threshold_price = 2000\n",
    "selected_stocks = stock_analysis(stock_data, threshold=threshold_price)\n",
    "print(\"Selected Stocks:\", selected_stocks)\n"
   ]
  },
  {
   "cell_type": "code",
   "execution_count": null,
   "id": "958b05b8-d356-4e16-938c-4afaafee80a2",
   "metadata": {},
   "outputs": [],
   "source": [
    "def calculate_total_value(prices, quantities):\n",
    "    \"\"\"\n",
    "    Calculate the total value of stocks.\n",
    "\n",
    "    Args:\n",
    "        prices (list): List of stock prices.\n",
    "        quantities (list): List of stock quantities.\n",
    "\n",
    "    Returns:\n",
    "        float: Total value of stocks.\n",
    "    \"\"\"\n",
    "    total_value = sum(price * quantity for price, quantity in zip(prices, quantities))\n",
    "    return total_value\n",
    "\n",
    "stock_prices = [3600, 1700, 2200, 1450]\n",
    "stock_quantities = [10, 20, 5, 15]\n",
    "total_stock_value = calculate_total_value(stock_prices, stock_quantities)\n",
    "print(\"Total stock value:\", total_stock_value)\n"
   ]
  },
  {
   "cell_type": "code",
   "execution_count": null,
   "id": "db749fcc-757f-4188-8634-5038dd859f5e",
   "metadata": {},
   "outputs": [],
   "source": [
    "def display_stock_info(symbol, price, sector):\n",
    "    \"\"\"\n",
    "    Display stock information.\n",
    "\n",
    "    Args:\n",
    "        symbol (str): Stock symbol.\n",
    "        price (float): Stock price.\n",
    "        sector (str): Stock sector.\n",
    "    \"\"\"\n",
    "    print(f\"Stock Symbol: {symbol}\")\n",
    "    print(f\"Stock Price: {price}\")\n",
    "    print(f\"Stock Sector: {sector}\")\n",
    "\n",
    "display_stock_info(symbol=\"TCS\", price=3600, sector=\"IT\")\n"
   ]
  },
  {
   "cell_type": "code",
   "execution_count": null,
   "id": "d16c085d-a837-4ef8-beb3-a298433083ec",
   "metadata": {},
   "outputs": [],
   "source": [
    "def calculate_total_value_with_defaults(prices, quantities=None):\n",
    "    \"\"\"\n",
    "    Calculate the total value of stocks.\n",
    "\n",
    "    Args:\n",
    "        prices (list): List of stock prices.\n",
    "        quantities (list, optional): List of stock quantities. Default is None.\n",
    "\n",
    "    Returns:\n",
    "        float: Total value of stocks.\n",
    "    \"\"\"\n",
    "    if quantities is None:\n",
    "        quantities = [1] * len(prices)\n",
    "    total_value = sum(price * quantity for price, quantity in zip(prices, quantities))\n",
    "    return total_value\n",
    "\n",
    "stock_prices = [3600, 1700, 2200, 1450]\n",
    "total_stock_value_default = calculate_total_value_with_defaults(stock_prices)\n",
    "total_stock_value_custom = calculate_total_value_with_defaults(stock_prices, quantities=[10, 20, 5, 15])\n",
    "\n",
    "print(\"Total stock value (default quantities):\", total_stock_value_default)\n",
    "print(\"Total stock value (custom quantities):\", total_stock_value_custom)\n"
   ]
  },
  {
   "cell_type": "code",
   "execution_count": null,
   "id": "9ae2c5ee-6840-4acb-9dc9-ca58e5b23766",
   "metadata": {},
   "outputs": [],
   "source": [
    "def get_stock_data(symbol):\n",
    "    \"\"\"\n",
    "    Get stock data based on stock symbol.\n",
    "\n",
    "    Args:\n",
    "        symbol (str): Stock symbol.\n",
    "\n",
    "    Returns:\n",
    "        dict or None: Stock data as a dictionary if symbol is found, else None.\n",
    "    \"\"\"\n",
    "    stock_data = {\n",
    "        'TCS': {'price': 3600, 'sector': 'IT'},\n",
    "        'RELIANCE': {'price': 2200, 'sector': 'Energy'}\n",
    "    }\n",
    "    return stock_data.get(symbol)\n",
    "\n",
    "stock_symbol = 'TCS'\n",
    "stock_info = get_stock_data(stock_symbol)\n",
    "\n",
    "if stock_info:\n",
    "    print(f\"Stock Info for {stock_symbol}:\")\n",
    "    print(\"Price:\", stock_info['price'])\n",
    "    print(\"Sector:\", stock_info['sector'])\n",
    "else:\n",
    "    print(f\"No stock data found for {stock_symbol}\")\n"
   ]
  },
  {
   "cell_type": "code",
   "execution_count": null,
   "id": "f2b98de5-bcbb-47e3-94bc-4a8131a21c26",
   "metadata": {},
   "outputs": [],
   "source": [
    "from typing import List\n",
    "\n",
    "def calculate_average_price(prices: List[float]) -> float:\n",
    "    \"\"\"\n",
    "    Calculate the average stock price.\n",
    "\n",
    "    Args:\n",
    "        prices (List[float]): A list of stock prices.\n",
    "\n",
    "    Returns:\n",
    "        float: The average stock price.\n",
    "    \"\"\"\n",
    "    total_price = sum(prices)\n",
    "    average_price = total_price / len(prices)\n",
    "    return average_price\n",
    "\n",
    "stock_prices = [3600.0, 3550.0, 3580.0, 3520.0, 3490.0]\n",
    "average = calculate_average_price(stock_prices)\n",
    "print(\"Average stock price:\", average)\n"
   ]
  },
  {
   "cell_type": "code",
   "execution_count": null,
   "id": "abb01f6e-f00e-42e5-a05a-0895a14798d9",
   "metadata": {},
   "outputs": [],
   "source": [
    "from typing import Dict\n",
    "\n",
    "def calculate_total_value(prices: Dict[str, float], quantities: Dict[str, int]) -> Dict[str, float]:\n",
    "    \"\"\"\n",
    "    Calculate the total value of stocks.\n",
    "\n",
    "    Args:\n",
    "        prices (Dict[str, float]): A dictionary of stock prices with stock symbols as keys.\n",
    "        quantities (Dict[str, int]): A dictionary of stock quantities with stock symbols as keys.\n",
    "\n",
    "    Returns:\n",
    "        Dict[str, float]: A dictionary of total values with stock symbols as keys.\n",
    "    \"\"\"\n",
    "    total_values = {}\n",
    "    for symbol in prices:\n",
    "        total_values[symbol] = prices[symbol] * quantities.get(symbol, 0)\n",
    "    return total_values\n",
    "\n",
    "stock_prices = {'TCS': 3600.0, 'INFY': 1700.0, 'RELIANCE': 2200.0, 'HDFCBANK': 1450.0}\n",
    "stock_quantities = {'TCS': 100, 'INFY': 50, 'RELIANCE': 75}\n",
    "\n",
    "total_values = calculate_total_value(stock_prices, stock_quantities)\n",
    "print(\"Total stock values:\", total_values)\n"
   ]
  },
  {
   "cell_type": "code",
   "execution_count": null,
   "id": "4d4283f9-81b8-4ba4-bed0-a833a1b15f58",
   "metadata": {},
   "outputs": [],
   "source": []
  },
  {
   "cell_type": "markdown",
   "id": "7ff8a008-4503-43cb-b842-dcb9c37877ff",
   "metadata": {},
   "source": [
    "The map, filter, and reduce functions are powerful tools in Python for working with sequences, including in the context of the stock market. They allow you to process, filter, and aggregate data efficiently. Let's explore each function with stock market"
   ]
  },
  {
   "cell_type": "markdown",
   "id": "6f7882ca-dc07-4dfb-a58b-a72efa9dfd31",
   "metadata": {},
   "source": [
    "### map Function:\n",
    "\n",
    "The map function applies a given function to each item in an iterable and returns a new iterable containing the results."
   ]
  },
  {
   "cell_type": "code",
   "execution_count": null,
   "id": "265518e7-826a-4fb9-991d-f0d0ba38f75f",
   "metadata": {},
   "outputs": [],
   "source": [
    "def calculate_percentage_change(price, initial_price):\n",
    "    return ((price - initial_price) / initial_price) * 100\n",
    "\n",
    "stock_prices = [3600, 3550, 3580, 3520]\n",
    "initial_price = stock_prices[0]\n",
    "\n",
    "percentage_changes = map(lambda price: calculate_percentage_change(price, initial_price), stock_prices)\n",
    "print(list(percentage_changes))\n",
    "# Output: [0.0, -1.3888888888888888, -0.5555555555555556, -2.2222222222222223]\n"
   ]
  },
  {
   "cell_type": "markdown",
   "id": "4ad20e93-34bc-4151-a783-dcf8cce82836",
   "metadata": {},
   "source": [
    "### filter Function:\n",
    "\n",
    "The filter function applies a given function to each item in an iterable and returns a new iterable containing only the items for which the function returns True."
   ]
  },
  {
   "cell_type": "code",
   "execution_count": null,
   "id": "2f2bf0e8-2403-459c-9c19-cada744f3538",
   "metadata": {},
   "outputs": [],
   "source": [
    "def is_high_priced(stock_price):\n",
    "    return stock_price > 3000\n",
    "\n",
    "stock_prices = [3600, 3550, 2800, 3520, 3100]\n",
    "\n",
    "high_priced_stocks = filter(is_high_priced, stock_prices)\n",
    "print(list(high_priced_stocks))\n",
    "# Output: [3600, 3550, 3520, 3100]\n"
   ]
  },
  {
   "cell_type": "markdown",
   "id": "546833e8-b682-4099-ab9d-30aaed28e059",
   "metadata": {},
   "source": [
    "### reduce Function:\n",
    "\n",
    "The reduce function (from the functools module) applies a given function to pairs of items in an iterable, accumulating the results and returning a single value."
   ]
  },
  {
   "cell_type": "code",
   "execution_count": null,
   "id": "828832ea-b665-41ed-a713-0466fb64cff5",
   "metadata": {},
   "outputs": [],
   "source": [
    "from functools import reduce\n",
    "\n",
    "def calculate_total(value1, value2):\n",
    "    return value1 + value2\n",
    "\n",
    "stock_values = [36000, 45000, 22000, 18000]\n",
    "\n",
    "total_portfolio_value = reduce(calculate_total, stock_values)\n",
    "print(total_portfolio_value)  # Output: 121000\n"
   ]
  },
  {
   "cell_type": "code",
   "execution_count": 164,
   "id": "b30b8db7-0054-4f1b-9ec4-428dc2a6a0da",
   "metadata": {},
   "outputs": [
    {
     "name": "stdout",
     "output_type": "stream",
     "text": [
      "Requirement already satisfied: numpy in /usr/local/lib/python3.9/site-packages (1.25.2)\n",
      "\u001b[33mWARNING: Running pip as the 'root' user can result in broken permissions and conflicting behaviour with the system package manager. It is recommended to use a virtual environment instead: https://pip.pypa.io/warnings/venv\u001b[0m\u001b[33m\n",
      "\u001b[0m\n",
      "\u001b[1m[\u001b[0m\u001b[34;49mnotice\u001b[0m\u001b[1;39;49m]\u001b[0m\u001b[39;49m A new release of pip is available: \u001b[0m\u001b[31;49m23.0.1\u001b[0m\u001b[39;49m -> \u001b[0m\u001b[32;49m23.2.1\u001b[0m\n",
      "\u001b[1m[\u001b[0m\u001b[34;49mnotice\u001b[0m\u001b[1;39;49m]\u001b[0m\u001b[39;49m To update, run: \u001b[0m\u001b[32;49mpip install --upgrade pip\u001b[0m\n",
      "Note: you may need to restart the kernel to use updated packages.\n"
     ]
    }
   ],
   "source": [
    "pip install numpy"
   ]
  },
  {
   "cell_type": "code",
   "execution_count": 165,
   "id": "9647eaaf-1e1b-428f-b9e5-16774767649d",
   "metadata": {},
   "outputs": [],
   "source": [
    "import numpy as np"
   ]
  },
  {
   "cell_type": "code",
   "execution_count": null,
   "id": "a18d2a36-a126-482f-9183-c8f14e3fc4c8",
   "metadata": {},
   "outputs": [],
   "source": []
  },
  {
   "cell_type": "code",
   "execution_count": 166,
   "id": "c135235f-7bf6-4dd3-90a8-f679dd06635d",
   "metadata": {},
   "outputs": [],
   "source": [
    "# Creating a 1D array\n",
    "arr_1d = np.array([1, 2, 3, 4, 5])\n",
    "\n",
    "# Creating a 2D array (matrix)\n",
    "matrix = np.array([[1, 2, 3], [4, 5, 6], [7, 8, 9]])\n"
   ]
  },
  {
   "cell_type": "code",
   "execution_count": 170,
   "id": "555c042b-8b7a-42cd-ad14-f122928a9f3b",
   "metadata": {},
   "outputs": [
    {
     "data": {
      "text/plain": [
       "[1, 4, 9]"
      ]
     },
     "execution_count": 170,
     "metadata": {},
     "output_type": "execute_result"
    }
   ],
   "source": [
    "l1=[1,2,3]\n",
    "\n",
    "[i*i for i in l1]\n"
   ]
  },
  {
   "cell_type": "code",
   "execution_count": 169,
   "id": "f90fe801-593d-4bb8-b987-c8f2178cb669",
   "metadata": {},
   "outputs": [],
   "source": [
    "# Element-wise addition\n",
    "arr1 = np.array([1, 2, 3])\n",
    "arr2 = np.array([4, 5, 6])\n",
    "result = arr1 + arr2  # [5, 7, 9]\n",
    "\n",
    "# Element-wise multiplication\n",
    "result = arr1 * arr2  # [4, 10, 18]\n"
   ]
  },
  {
   "cell_type": "code",
   "execution_count": null,
   "id": "0f776934-57ed-4063-a5c5-a509c9db0cfd",
   "metadata": {},
   "outputs": [],
   "source": [
    "# Square root\n",
    "arr = np.array([1, 4, 9, 16])\n",
    "sqrt_arr = np.sqrt(arr)  # [1., 2., 3., 4.]\n",
    "\n",
    "# Exponential function\n",
    "exp_arr = np.exp(arr)  # [2.71828183, 54.59815003, 8103.08392758, 8886110.52050798]\n"
   ]
  },
  {
   "cell_type": "code",
   "execution_count": null,
   "id": "8988259d-7f74-489c-a736-488c4ac5da38",
   "metadata": {},
   "outputs": [],
   "source": [
    "arr = np.array([10, 20, 30, 40, 50])\n",
    "print(arr[1])         # 20 (access element at index 1)\n",
    "print(arr[1:4])       # [20, 30, 40] (slice elements from index 1 to 3)\n",
    "print(arr[:3])        # [10, 20, 30] (slice first 3 elements)\n",
    "print(arr[2:])        # [30, 40, 50] (slice elements from index 2 to end)\n"
   ]
  },
  {
   "cell_type": "code",
   "execution_count": 171,
   "id": "fc3eb385-9af9-406e-b71a-474cfce3f4c6",
   "metadata": {},
   "outputs": [
    {
     "ename": "TypeError",
     "evalue": "can only concatenate list (not \"int\") to list",
     "output_type": "error",
     "traceback": [
      "\u001b[0;31m---------------------------------------------------------------------------\u001b[0m",
      "\u001b[0;31mTypeError\u001b[0m                                 Traceback (most recent call last)",
      "Cell \u001b[0;32mIn[171], line 2\u001b[0m\n\u001b[1;32m      1\u001b[0m l1\u001b[38;5;241m=\u001b[39m[\u001b[38;5;241m1\u001b[39m,\u001b[38;5;241m2\u001b[39m,\u001b[38;5;241m3\u001b[39m]\n\u001b[0;32m----> 2\u001b[0m \u001b[43ml1\u001b[49m\u001b[38;5;241;43m+\u001b[39;49m\u001b[38;5;241;43m4\u001b[39;49m\n",
      "\u001b[0;31mTypeError\u001b[0m: can only concatenate list (not \"int\") to list"
     ]
    }
   ],
   "source": [
    "l1=[1,2,3]\n",
    "l1+4"
   ]
  },
  {
   "cell_type": "code",
   "execution_count": 172,
   "id": "8613e0e5-f35e-4ad2-aac1-225a3c6b08c0",
   "metadata": {},
   "outputs": [],
   "source": [
    "arr = np.array([1, 2, 3])\n",
    "result = arr + 10  # [11, 12, 13] (broadcasts 10 to all elements)\n"
   ]
  },
  {
   "cell_type": "code",
   "execution_count": 173,
   "id": "c22b7f78-add9-4257-85dd-c1e28e6530e2",
   "metadata": {},
   "outputs": [],
   "source": [
    "arr = np.array([10, 20, 30, 40, 50])\n",
    "mean = np.mean(arr)    # 30.0\n",
    "max_value = np.max(arr)  # 50\n",
    "min_index = np.argmin(arr)  # 0 (index of the minimum value)\n"
   ]
  },
  {
   "cell_type": "code",
   "execution_count": null,
   "id": "caee9c56-1675-409b-8053-3e8b3b7035a2",
   "metadata": {},
   "outputs": [],
   "source": [
    "matrix1 = np.array([[1, 2], [3, 4]])\n",
    "matrix2 = np.array([[5, 6], [7, 8]])\n",
    "\n",
    "# Matrix multiplication\n",
    "result = np.dot(matrix1, matrix2)\n",
    "\n",
    "# Inverse of a matrix\n",
    "inverse_matrix = np.linalg.inv(matrix1)\n"
   ]
  },
  {
   "cell_type": "code",
   "execution_count": null,
   "id": "498cfdeb-730d-4ecc-85ae-44b5ba070667",
   "metadata": {},
   "outputs": [],
   "source": []
  },
  {
   "cell_type": "code",
   "execution_count": 174,
   "id": "7da19e3a-e5c6-4486-b999-9345698254c6",
   "metadata": {},
   "outputs": [
    {
     "name": "stdout",
     "output_type": "stream",
     "text": [
      "Time taken with Python list: 0.008850574493408203\n",
      "Time taken with NumPy array: 0.0006413459777832031\n"
     ]
    }
   ],
   "source": [
    "import numpy as np\n",
    "import time\n",
    "\n",
    "# Using Python list\n",
    "py_list = [i for i in range(1000000)]\n",
    "start_time = time.time()\n",
    "sum(py_list)\n",
    "print(\"Time taken with Python list:\", time.time() - start_time)\n",
    "\n",
    "# Using NumPy array\n",
    "np_array = np.arange(1000000)\n",
    "start_time = time.time()\n",
    "np.sum(np_array)\n",
    "print(\"Time taken with NumPy array:\", time.time() - start_time)\n"
   ]
  },
  {
   "cell_type": "code",
   "execution_count": 175,
   "id": "e573bb88-378c-4d05-afa7-779f5a02ca3b",
   "metadata": {},
   "outputs": [
    {
     "data": {
      "text/plain": [
       "13.8"
      ]
     },
     "execution_count": 175,
     "metadata": {},
     "output_type": "execute_result"
    }
   ],
   "source": [
    "0.008850574493408203/0.0006413459777832031"
   ]
  },
  {
   "cell_type": "code",
   "execution_count": 176,
   "id": "d827cb5c-4817-48a0-b2ba-2c42f44f26fc",
   "metadata": {},
   "outputs": [
    {
     "name": "stdout",
     "output_type": "stream",
     "text": [
      "Memory usage with Python list: 8448728\n",
      "Memory usage with NumPy array: 8000000\n"
     ]
    }
   ],
   "source": [
    "import sys\n",
    "\n",
    "# Memory usage with Python list\n",
    "py_list = [i for i in range(1000000)]\n",
    "print(\"Memory usage with Python list:\", sys.getsizeof(py_list))\n",
    "\n",
    "# Memory usage with NumPy array\n",
    "np_array = np.arange(1000000)\n",
    "print(\"Memory usage with NumPy array:\", np_array.nbytes)\n"
   ]
  },
  {
   "cell_type": "code",
   "execution_count": 177,
   "id": "06aee6dc-e3f4-4198-995e-90401c96ab0c",
   "metadata": {},
   "outputs": [
    {
     "name": "stdout",
     "output_type": "stream",
     "text": [
      "Time taken with Python list: 0.09224247932434082\n",
      "Time taken with NumPy array: 0.016721010208129883\n"
     ]
    }
   ],
   "source": [
    "# Element-wise addition with Python list\n",
    "py_list1 = [i for i in range(1000000)]\n",
    "py_list2 = [i for i in range(1000000, 0, -1)]\n",
    "start_time = time.time()\n",
    "result = [a + b for a, b in zip(py_list1, py_list2)]\n",
    "print(\"Time taken with Python list:\", time.time() - start_time)\n",
    "\n",
    "# Element-wise addition with NumPy array\n",
    "np_array1 = np.arange(1000000)\n",
    "np_array2 = np.arange(1000000, 0, -1)\n",
    "start_time = time.time()\n",
    "result = np_array1 + np_array2\n",
    "print(\"Time taken with NumPy array:\", time.time() - start_time)\n"
   ]
  },
  {
   "cell_type": "markdown",
   "id": "bc531824-4c9c-454b-a030-5a5f7343f779",
   "metadata": {},
   "source": [
    "### Parallel Processing in Python:\n",
    "\n",
    "Parallel processing is a technique used to execute multiple tasks concurrently, making efficient use of multiple CPU cores available in modern processors. Python provides several libraries for parallel processing, including the built-in multiprocessing module and third-party libraries like concurrent.futures. Parallel processing can significantly speed up the execution of tasks that can be divided into smaller independent units of work."
   ]
  },
  {
   "cell_type": "code",
   "execution_count": 178,
   "id": "c2cae7c0-1697-4a15-9673-8ca1e78df342",
   "metadata": {},
   "outputs": [
    {
     "name": "stdout",
     "output_type": "stream",
     "text": [
      "Processing 1\n",
      "Processing 2\n",
      "Processing 3\n",
      "Processing 4\n",
      "Processing 5\n",
      "Sequential Processing Time: 10.024610996246338\n",
      "Results: [2, 4, 6, 8, 10]\n",
      "Processing 2Processing 4Processing 1\n",
      "\n",
      "Processing 3\n",
      "\n",
      "Processing 5\n",
      "Parallel Processing Time: 4.092328071594238\n",
      "Parallel Results: [2, 4, 6, 8, 10]\n"
     ]
    }
   ],
   "source": [
    "import time\n",
    "import multiprocessing\n",
    "\n",
    "# Function to simulate a time-consuming task\n",
    "def process_data(number):\n",
    "    print(f\"Processing {number}\")\n",
    "    time.sleep(2)  # Simulate processing time\n",
    "    return number * 2\n",
    "\n",
    "if __name__ == \"__main__\":\n",
    "    numbers = [1, 2, 3, 4, 5]\n",
    "\n",
    "    # Sequential processing (no parallelism)\n",
    "    start_time = time.time()\n",
    "    results = [process_data(num) for num in numbers]\n",
    "    end_time = time.time()\n",
    "    print(\"Sequential Processing Time:\", end_time - start_time)\n",
    "    print(\"Results:\", results)\n",
    "\n",
    "    # Parallel processing using multiprocessing\n",
    "    start_time = time.time()\n",
    "    with multiprocessing.Pool() as pool:\n",
    "        results_parallel = pool.map(process_data, numbers)\n",
    "    end_time = time.time()\n",
    "    print(\"Parallel Processing Time:\", end_time - start_time)\n",
    "    print(\"Parallel Results:\", results_parallel)\n"
   ]
  },
  {
   "cell_type": "markdown",
   "id": "d1a0ae01-8cb2-4303-9c57-72f598d2f353",
   "metadata": {},
   "source": [
    "In this example, the process_data function simulates a time-consuming task using time.sleep(2) to represent the processing time. The sequential processing approach uses a list comprehension to process each number sequentially, while the parallel processing approach uses the multiprocessing.Pool() to distribute the tasks across multiple processes.\n",
    "\n",
    "### Documentation:\n",
    "\n",
    "#### Parallel Processing\n",
    "Parallel processing is a technique used to execute multiple tasks simultaneously, leveraging the capabilities of modern multi-core processors. It is particularly beneficial when dealing with tasks that can be divided into independent units of work. Python offers tools like the multiprocessing module and third-party libraries for implementing parallel processing.\n",
    "\n",
    "#### Example Explanation:\n",
    "\n",
    "The process_data function simulates a time-consuming task by sleeping for 2 seconds.\n",
    "The if __name__ == \"__main__\": block ensures that the code is executed only when the script is run directly, not when it's imported.\n",
    "In the sequential processing approach, a list comprehension is used to process each number sequentially. The processing time is measured using time.time().\n",
    "In the parallel processing approach, a multiprocessing.Pool() is used to distribute the tasks among multiple processes. The map() function is used to apply the process_data function to each number concurrently.\n",
    "The processing times and results are printed for both sequential and parallel approaches.\n",
    "Comparison:\n",
    "\n",
    "In this example, parallel processing significantly reduces the overall processing time compared to sequential processing. The time-consuming tasks are executed concurrently, utilizing multiple CPU cores, which leads to improved efficiency.\n",
    "\n",
    "Note that parallel processing comes with some overhead due to the creation and management of multiple processes. It's most effective for tasks that are time-consuming and can be executed independently. However, not all tasks benefit from parallelism, and choosing the appropriate approach depends on the nature of the tasks and the available resources."
   ]
  },
  {
   "cell_type": "code",
   "execution_count": null,
   "id": "d5c244e5-0482-48fc-923e-c94e57b26ff3",
   "metadata": {},
   "outputs": [],
   "source": []
  },
  {
   "cell_type": "code",
   "execution_count": null,
   "id": "9f85e055-2e7d-4f98-a17b-2c6e4fe24f80",
   "metadata": {},
   "outputs": [],
   "source": []
  },
  {
   "cell_type": "code",
   "execution_count": null,
   "id": "17365354-e5e8-4613-b23c-fe7af4f4fe19",
   "metadata": {},
   "outputs": [],
   "source": [
    "while True:\n",
    "    try:\n",
    "        number = int(input(\"Enter a number: \"))\n",
    "        result = 10 / number\n",
    "        print(\"Result:\", result)\n",
    "        break  # Exit the loop on successful input and calculation\n",
    "    except ValueError:\n",
    "        print(\"Invalid input! Please enter a valid number.\")\n",
    "    except ZeroDivisionError:\n",
    "        print(\"Error: Cannot divide by zero. Please enter a non-zero number.\")\n",
    "    except Exception as e:\n",
    "        print(\"An error occurred:\", e)\n",
    "        break  # Exit the loop on any unexpected error\n"
   ]
  },
  {
   "cell_type": "markdown",
   "id": "1d9f4b6d-ba34-4cd4-a8af-f33153074ad2",
   "metadata": {},
   "source": [
    "The while True: loop runs indefinitely until the user enters valid input and the calculations are successful.\n",
    "Inside the loop, a try block is used to attempt the user input and calculations.\n",
    "The except blocks catch specific types of exceptions: ValueError for invalid input, and ZeroDivisionError for division by zero.\n",
    "The except Exception as e: block catches any other unexpected exceptions and prints an error message.\n",
    "The break statements are used to exit the loop in case of successful input and calculations or in case of any error.\n",
    "This error handling approach ensures that the program handles different types of errors gracefully and provides appropriate feedback to the user."
   ]
  }
 ],
 "metadata": {
  "kernelspec": {
   "display_name": "QS_Python",
   "language": "python",
   "name": "qs_python"
  },
  "language_info": {
   "codemirror_mode": {
    "name": "ipython",
    "version": 3
   },
   "file_extension": ".py",
   "mimetype": "text/x-python",
   "name": "python",
   "nbconvert_exporter": "python",
   "pygments_lexer": "ipython3",
   "version": "3.9.18"
  }
 },
 "nbformat": 4,
 "nbformat_minor": 5
}
